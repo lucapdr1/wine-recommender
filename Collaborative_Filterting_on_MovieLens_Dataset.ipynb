{
  "nbformat": 4,
  "nbformat_minor": 0,
  "metadata": {
    "colab": {
      "provenance": []
    },
    "kernelspec": {
      "name": "python3",
      "display_name": "Python 3"
    }
  },
  "cells": [
    {
      "cell_type": "markdown",
      "metadata": {
        "id": "JFOt8cvm3-GA"
      },
      "source": [
        "\n",
        "**Collaborative Filterting on MovieLens Dataset**\n",
        "\n",
        "orginal notebook : [fast.ai](https://github.com/fastai/fastai/blob/master/courses/dl1/lesson5-movielens.ipynb)"
      ]
    },
    {
      "cell_type": "code",
      "metadata": {
        "id": "fgwT_kYX5tB0",
        "colab": {
          "base_uri": "https://localhost:8080/",
          "height": 33
        },
        "outputId": "41c7d984-bf10-447f-a074-fc2d5c1b6ce4"
      },
      "source": [
        "!mv kaggle.json /root/.kaggle\n",
        "\n",
        "import kaggle\n",
        "!chmod 600 /root/.kaggle/kaggle.json"
      ],
      "execution_count": null,
      "outputs": [
        {
          "output_type": "stream",
          "text": [
            "mv: cannot stat 'kaggle.json': No such file or directory\n"
          ],
          "name": "stdout"
        }
      ]
    },
    {
      "cell_type": "code",
      "metadata": {
        "id": "bTwNlbZQ4Bzm"
      },
      "source": [
        "import io\n",
        "import os\n",
        "import math\n",
        "import copy\n",
        "import pickle\n",
        "import zipfile\n",
        "from textwrap import wrap\n",
        "from pathlib import Path\n",
        "from itertools import zip_longest\n",
        "from collections import defaultdict\n",
        "from urllib.error import URLError\n",
        "from urllib.request import urlopen\n",
        "\n",
        "import numpy as np\n",
        "import pandas as pd\n",
        "import matplotlib.pyplot as plt\n",
        "from sklearn.model_selection import train_test_split\n",
        "\n",
        "import torch\n",
        "from torch import nn\n",
        "from torch import optim\n",
        "from torch.nn import functional as F\n",
        "from torch.optim.lr_scheduler import _LRScheduler"
      ],
      "execution_count": null,
      "outputs": []
    },
    {
      "cell_type": "code",
      "metadata": {
        "id": "QOVooBSI4FZd"
      },
      "source": [
        "plt.style.use('ggplot')"
      ],
      "execution_count": null,
      "outputs": []
    },
    {
      "cell_type": "code",
      "metadata": {
        "id": "tR9UAwfg4LJt"
      },
      "source": [
        "def set_random_seed(state=1):\n",
        "    gens = (np.random.seed, torch.manual_seed, torch.cuda.manual_seed)\n",
        "    for set_state in gens:\n",
        "        set_state(state)"
      ],
      "execution_count": null,
      "outputs": []
    },
    {
      "cell_type": "code",
      "metadata": {
        "id": "Kt8xCp5I4NeX"
      },
      "source": [
        "RANDOM_STATE = 1\n",
        "set_random_seed(RANDOM_STATE)"
      ],
      "execution_count": null,
      "outputs": []
    },
    {
      "cell_type": "markdown",
      "metadata": {
        "id": "uYIsIl794SOx"
      },
      "source": [
        "**Dataset Downloading**"
      ]
    },
    {
      "cell_type": "code",
      "metadata": {
        "id": "A6QBTWeG4Qmb"
      },
      "source": [
        "def try_download(url, download_path):\n",
        "    archive_name = url.split('/')[-1]\n",
        "    folder_name, _ = os.path.splitext(archive_name)\n",
        "\n",
        "    try:\n",
        "        r = urlopen(url)\n",
        "    except URLError as e:\n",
        "        print('Cannot download the data. Error: %s' % s)\n",
        "        return\n",
        "\n",
        "    assert r.status == 200\n",
        "    data = r.read()\n",
        "\n",
        "    with zipfile.ZipFile(io.BytesIO(data)) as arch:\n",
        "        arch.extractall(download_path)\n",
        "\n",
        "    print('The archive is extracted into folder: %s' % download_path)"
      ],
      "execution_count": null,
      "outputs": []
    },
    {
      "cell_type": "code",
      "metadata": {
        "id": "eZUumvly4egL"
      },
      "source": [
        "def read_data(path):\n",
        "    files = {}\n",
        "    for filename in path.glob('*'):\n",
        "        if filename.suffix == '.csv':\n",
        "            files[filename.stem] = pd.read_csv(filename)\n",
        "        elif filename.suffix == '.dat':\n",
        "            if filename.stem == 'ratings':\n",
        "                columns = ['userId', 'movieId', 'rating', 'timestamp']\n",
        "            else:\n",
        "                columns = ['movieId', 'title', 'genres']\n",
        "            data = pd.read_csv(filename, sep='::', names=columns, engine='python')\n",
        "            files[filename.stem] = data\n",
        "    return files['ratings'], files['movies']"
      ],
      "execution_count": null,
      "outputs": []
    },
    {
      "cell_type": "code",
      "metadata": {
        "id": "WPVhW6sN4kSZ"
      },
      "source": [
        "# pick any other dataset instead\n",
        "archive_url = f'http://files.grouplens.org/datasets/movielens/ml-1m.zip'\n",
        "download_path = Path.home() / 'data' / 'movielens'"
      ],
      "execution_count": null,
      "outputs": []
    },
    {
      "cell_type": "markdown",
      "metadata": {
        "id": "g56C2Hah8eFb"
      },
      "source": [
        "we can use kaggle data set as well\n",
        "\n",
        "https://www.kaggle.com/rounakbanik/the-movies-dataset"
      ]
    },
    {
      "cell_type": "code",
      "metadata": {
        "id": "avbSj2EP5oLB",
        "colab": {
          "base_uri": "https://localhost:8080/",
          "height": 33
        },
        "outputId": "0407b329-3588-43f9-b128-56eea3204384"
      },
      "source": [
        "try_download(archive_url, download_path)\n"
      ],
      "execution_count": null,
      "outputs": [
        {
          "output_type": "stream",
          "text": [
            "The archive is extracted into folder: /root/data/movielens\n"
          ],
          "name": "stdout"
        }
      ]
    },
    {
      "cell_type": "code",
      "metadata": {
        "id": "uTVj13Pw7-X9",
        "colab": {
          "base_uri": "https://localhost:8080/",
          "height": 66
        },
        "outputId": "f14578aa-8edc-4d49-f1ef-a532a18e2ce7"
      },
      "source": [
        "!ls -l $download_path"
      ],
      "execution_count": null,
      "outputs": [
        {
          "output_type": "stream",
          "text": [
            "total 8\n",
            "drwxr-xr-x 2 root root 4096 Jul 20 11:44 ml-1m\n",
            "drwxr-xr-x 2 root root 4096 Jul 20 11:15 ml-latest-small\n"
          ],
          "name": "stdout"
        }
      ]
    },
    {
      "cell_type": "code",
      "metadata": {
        "id": "uQQCUtTZ8CFp"
      },
      "source": [
        "# pick one of the available folders\n",
        "ratings, movies = read_data(download_path /'ml-1m')"
      ],
      "execution_count": null,
      "outputs": []
    },
    {
      "cell_type": "markdown",
      "metadata": {
        "id": "z0NOzTFu8o_M"
      },
      "source": [
        "Dataset Preview"
      ]
    },
    {
      "cell_type": "code",
      "metadata": {
        "id": "JzK9h21Q8Eas",
        "colab": {
          "base_uri": "https://localhost:8080/",
          "height": 191
        },
        "outputId": "8f82b9d8-e206-41a4-84ba-1f9474ea9f0d"
      },
      "source": [
        "ratings.head()\n"
      ],
      "execution_count": null,
      "outputs": [
        {
          "output_type": "execute_result",
          "data": {
            "text/html": [
              "<div>\n",
              "<style scoped>\n",
              "    .dataframe tbody tr th:only-of-type {\n",
              "        vertical-align: middle;\n",
              "    }\n",
              "\n",
              "    .dataframe tbody tr th {\n",
              "        vertical-align: top;\n",
              "    }\n",
              "\n",
              "    .dataframe thead th {\n",
              "        text-align: right;\n",
              "    }\n",
              "</style>\n",
              "<table border=\"1\" class=\"dataframe\">\n",
              "  <thead>\n",
              "    <tr style=\"text-align: right;\">\n",
              "      <th></th>\n",
              "      <th>userId</th>\n",
              "      <th>movieId</th>\n",
              "      <th>rating</th>\n",
              "      <th>timestamp</th>\n",
              "    </tr>\n",
              "  </thead>\n",
              "  <tbody>\n",
              "    <tr>\n",
              "      <th>0</th>\n",
              "      <td>1</td>\n",
              "      <td>1193</td>\n",
              "      <td>5</td>\n",
              "      <td>978300760</td>\n",
              "    </tr>\n",
              "    <tr>\n",
              "      <th>1</th>\n",
              "      <td>1</td>\n",
              "      <td>661</td>\n",
              "      <td>3</td>\n",
              "      <td>978302109</td>\n",
              "    </tr>\n",
              "    <tr>\n",
              "      <th>2</th>\n",
              "      <td>1</td>\n",
              "      <td>914</td>\n",
              "      <td>3</td>\n",
              "      <td>978301968</td>\n",
              "    </tr>\n",
              "    <tr>\n",
              "      <th>3</th>\n",
              "      <td>1</td>\n",
              "      <td>3408</td>\n",
              "      <td>4</td>\n",
              "      <td>978300275</td>\n",
              "    </tr>\n",
              "    <tr>\n",
              "      <th>4</th>\n",
              "      <td>1</td>\n",
              "      <td>2355</td>\n",
              "      <td>5</td>\n",
              "      <td>978824291</td>\n",
              "    </tr>\n",
              "  </tbody>\n",
              "</table>\n",
              "</div>"
            ],
            "text/plain": [
              "   userId  movieId  rating  timestamp\n",
              "0       1     1193       5  978300760\n",
              "1       1      661       3  978302109\n",
              "2       1      914       3  978301968\n",
              "3       1     3408       4  978300275\n",
              "4       1     2355       5  978824291"
            ]
          },
          "metadata": {
            "tags": []
          },
          "execution_count": 125
        }
      ]
    },
    {
      "cell_type": "code",
      "metadata": {
        "id": "Rfo1My028r4o",
        "colab": {
          "base_uri": "https://localhost:8080/",
          "height": 191
        },
        "outputId": "1de8e9bb-f215-4fc9-bebb-d2a53cbd8e12"
      },
      "source": [
        "movies.head()\n"
      ],
      "execution_count": null,
      "outputs": [
        {
          "output_type": "execute_result",
          "data": {
            "text/html": [
              "<div>\n",
              "<style scoped>\n",
              "    .dataframe tbody tr th:only-of-type {\n",
              "        vertical-align: middle;\n",
              "    }\n",
              "\n",
              "    .dataframe tbody tr th {\n",
              "        vertical-align: top;\n",
              "    }\n",
              "\n",
              "    .dataframe thead th {\n",
              "        text-align: right;\n",
              "    }\n",
              "</style>\n",
              "<table border=\"1\" class=\"dataframe\">\n",
              "  <thead>\n",
              "    <tr style=\"text-align: right;\">\n",
              "      <th></th>\n",
              "      <th>movieId</th>\n",
              "      <th>title</th>\n",
              "      <th>genres</th>\n",
              "    </tr>\n",
              "  </thead>\n",
              "  <tbody>\n",
              "    <tr>\n",
              "      <th>0</th>\n",
              "      <td>1</td>\n",
              "      <td>Toy Story (1995)</td>\n",
              "      <td>Animation|Children's|Comedy</td>\n",
              "    </tr>\n",
              "    <tr>\n",
              "      <th>1</th>\n",
              "      <td>2</td>\n",
              "      <td>Jumanji (1995)</td>\n",
              "      <td>Adventure|Children's|Fantasy</td>\n",
              "    </tr>\n",
              "    <tr>\n",
              "      <th>2</th>\n",
              "      <td>3</td>\n",
              "      <td>Grumpier Old Men (1995)</td>\n",
              "      <td>Comedy|Romance</td>\n",
              "    </tr>\n",
              "    <tr>\n",
              "      <th>3</th>\n",
              "      <td>4</td>\n",
              "      <td>Waiting to Exhale (1995)</td>\n",
              "      <td>Comedy|Drama</td>\n",
              "    </tr>\n",
              "    <tr>\n",
              "      <th>4</th>\n",
              "      <td>5</td>\n",
              "      <td>Father of the Bride Part II (1995)</td>\n",
              "      <td>Comedy</td>\n",
              "    </tr>\n",
              "  </tbody>\n",
              "</table>\n",
              "</div>"
            ],
            "text/plain": [
              "   movieId                               title                        genres\n",
              "0        1                    Toy Story (1995)   Animation|Children's|Comedy\n",
              "1        2                      Jumanji (1995)  Adventure|Children's|Fantasy\n",
              "2        3             Grumpier Old Men (1995)                Comedy|Romance\n",
              "3        4            Waiting to Exhale (1995)                  Comedy|Drama\n",
              "4        5  Father of the Bride Part II (1995)                        Comedy"
            ]
          },
          "metadata": {
            "tags": []
          },
          "execution_count": 126
        }
      ]
    },
    {
      "cell_type": "code",
      "metadata": {
        "id": "XtV55r168tgO"
      },
      "source": [
        "def tabular_preview(ratings, n=15):\n",
        "    \"\"\"Creates a cross-tabular view of users vs movies.\"\"\"\n",
        "\n",
        "    user_groups = ratings.groupby('userId')['rating'].count()\n",
        "    top_users = user_groups.sort_values(ascending=False)[:15]\n",
        "\n",
        "    movie_groups = ratings.groupby('movieId')['rating'].count()\n",
        "    top_movies = movie_groups.sort_values(ascending=False)[:15]\n",
        "\n",
        "    top = (\n",
        "        ratings.\n",
        "        join(top_users, rsuffix='_r', how='inner', on='userId').\n",
        "        join(top_movies, rsuffix='_r', how='inner', on='movieId'))\n",
        "\n",
        "    return pd.crosstab(top.userId, top.movieId, top.rating, aggfunc=np.sum)"
      ],
      "execution_count": null,
      "outputs": []
    },
    {
      "cell_type": "code",
      "metadata": {
        "id": "_-db28k58x70",
        "colab": {
          "base_uri": "https://localhost:8080/",
          "height": 507
        },
        "outputId": "63a76066-e4a8-4bea-df63-a72a09e7d455"
      },
      "source": [
        "tabular_preview(ratings, movies)\n"
      ],
      "execution_count": null,
      "outputs": [
        {
          "output_type": "execute_result",
          "data": {
            "text/html": [
              "<div>\n",
              "<style scoped>\n",
              "    .dataframe tbody tr th:only-of-type {\n",
              "        vertical-align: middle;\n",
              "    }\n",
              "\n",
              "    .dataframe tbody tr th {\n",
              "        vertical-align: top;\n",
              "    }\n",
              "\n",
              "    .dataframe thead th {\n",
              "        text-align: right;\n",
              "    }\n",
              "</style>\n",
              "<table border=\"1\" class=\"dataframe\">\n",
              "  <thead>\n",
              "    <tr style=\"text-align: right;\">\n",
              "      <th>movieId</th>\n",
              "      <th>110</th>\n",
              "      <th>260</th>\n",
              "      <th>480</th>\n",
              "      <th>589</th>\n",
              "      <th>593</th>\n",
              "      <th>608</th>\n",
              "      <th>1196</th>\n",
              "      <th>1198</th>\n",
              "      <th>1210</th>\n",
              "      <th>1270</th>\n",
              "      <th>1580</th>\n",
              "      <th>2028</th>\n",
              "      <th>2571</th>\n",
              "      <th>2762</th>\n",
              "      <th>2858</th>\n",
              "    </tr>\n",
              "    <tr>\n",
              "      <th>userId</th>\n",
              "      <th></th>\n",
              "      <th></th>\n",
              "      <th></th>\n",
              "      <th></th>\n",
              "      <th></th>\n",
              "      <th></th>\n",
              "      <th></th>\n",
              "      <th></th>\n",
              "      <th></th>\n",
              "      <th></th>\n",
              "      <th></th>\n",
              "      <th></th>\n",
              "      <th></th>\n",
              "      <th></th>\n",
              "      <th></th>\n",
              "    </tr>\n",
              "  </thead>\n",
              "  <tbody>\n",
              "    <tr>\n",
              "      <th>889</th>\n",
              "      <td>4.0</td>\n",
              "      <td>4.0</td>\n",
              "      <td>3.0</td>\n",
              "      <td>5.0</td>\n",
              "      <td>5.0</td>\n",
              "      <td>4.0</td>\n",
              "      <td>4.0</td>\n",
              "      <td>NaN</td>\n",
              "      <td>3.0</td>\n",
              "      <td>4.0</td>\n",
              "      <td>3.0</td>\n",
              "      <td>3.0</td>\n",
              "      <td>5.0</td>\n",
              "      <td>NaN</td>\n",
              "      <td>2.0</td>\n",
              "    </tr>\n",
              "    <tr>\n",
              "      <th>1015</th>\n",
              "      <td>4.0</td>\n",
              "      <td>5.0</td>\n",
              "      <td>4.0</td>\n",
              "      <td>5.0</td>\n",
              "      <td>5.0</td>\n",
              "      <td>5.0</td>\n",
              "      <td>4.0</td>\n",
              "      <td>5.0</td>\n",
              "      <td>4.0</td>\n",
              "      <td>4.0</td>\n",
              "      <td>4.0</td>\n",
              "      <td>5.0</td>\n",
              "      <td>5.0</td>\n",
              "      <td>5.0</td>\n",
              "      <td>4.0</td>\n",
              "    </tr>\n",
              "    <tr>\n",
              "      <th>1150</th>\n",
              "      <td>2.0</td>\n",
              "      <td>5.0</td>\n",
              "      <td>NaN</td>\n",
              "      <td>2.0</td>\n",
              "      <td>3.0</td>\n",
              "      <td>5.0</td>\n",
              "      <td>4.0</td>\n",
              "      <td>2.0</td>\n",
              "      <td>3.0</td>\n",
              "      <td>2.0</td>\n",
              "      <td>2.0</td>\n",
              "      <td>2.0</td>\n",
              "      <td>1.0</td>\n",
              "      <td>2.0</td>\n",
              "      <td>4.0</td>\n",
              "    </tr>\n",
              "    <tr>\n",
              "      <th>1181</th>\n",
              "      <td>3.0</td>\n",
              "      <td>4.0</td>\n",
              "      <td>2.0</td>\n",
              "      <td>5.0</td>\n",
              "      <td>3.0</td>\n",
              "      <td>3.0</td>\n",
              "      <td>4.0</td>\n",
              "      <td>3.0</td>\n",
              "      <td>3.0</td>\n",
              "      <td>3.0</td>\n",
              "      <td>4.0</td>\n",
              "      <td>4.0</td>\n",
              "      <td>5.0</td>\n",
              "      <td>4.0</td>\n",
              "      <td>3.0</td>\n",
              "    </tr>\n",
              "    <tr>\n",
              "      <th>1449</th>\n",
              "      <td>3.0</td>\n",
              "      <td>3.0</td>\n",
              "      <td>2.0</td>\n",
              "      <td>2.0</td>\n",
              "      <td>5.0</td>\n",
              "      <td>5.0</td>\n",
              "      <td>3.0</td>\n",
              "      <td>4.0</td>\n",
              "      <td>2.0</td>\n",
              "      <td>2.0</td>\n",
              "      <td>4.0</td>\n",
              "      <td>3.0</td>\n",
              "      <td>4.0</td>\n",
              "      <td>4.0</td>\n",
              "      <td>4.0</td>\n",
              "    </tr>\n",
              "    <tr>\n",
              "      <th>1680</th>\n",
              "      <td>1.0</td>\n",
              "      <td>2.0</td>\n",
              "      <td>5.0</td>\n",
              "      <td>5.0</td>\n",
              "      <td>5.0</td>\n",
              "      <td>5.0</td>\n",
              "      <td>5.0</td>\n",
              "      <td>5.0</td>\n",
              "      <td>3.0</td>\n",
              "      <td>3.0</td>\n",
              "      <td>4.0</td>\n",
              "      <td>5.0</td>\n",
              "      <td>3.0</td>\n",
              "      <td>5.0</td>\n",
              "      <td>5.0</td>\n",
              "    </tr>\n",
              "    <tr>\n",
              "      <th>1941</th>\n",
              "      <td>5.0</td>\n",
              "      <td>5.0</td>\n",
              "      <td>5.0</td>\n",
              "      <td>3.0</td>\n",
              "      <td>5.0</td>\n",
              "      <td>4.0</td>\n",
              "      <td>5.0</td>\n",
              "      <td>5.0</td>\n",
              "      <td>5.0</td>\n",
              "      <td>5.0</td>\n",
              "      <td>5.0</td>\n",
              "      <td>5.0</td>\n",
              "      <td>3.0</td>\n",
              "      <td>5.0</td>\n",
              "      <td>1.0</td>\n",
              "    </tr>\n",
              "    <tr>\n",
              "      <th>1980</th>\n",
              "      <td>4.0</td>\n",
              "      <td>4.0</td>\n",
              "      <td>4.0</td>\n",
              "      <td>4.0</td>\n",
              "      <td>5.0</td>\n",
              "      <td>5.0</td>\n",
              "      <td>4.0</td>\n",
              "      <td>5.0</td>\n",
              "      <td>4.0</td>\n",
              "      <td>5.0</td>\n",
              "      <td>4.0</td>\n",
              "      <td>5.0</td>\n",
              "      <td>5.0</td>\n",
              "      <td>5.0</td>\n",
              "      <td>5.0</td>\n",
              "    </tr>\n",
              "    <tr>\n",
              "      <th>2063</th>\n",
              "      <td>5.0</td>\n",
              "      <td>4.0</td>\n",
              "      <td>4.0</td>\n",
              "      <td>2.0</td>\n",
              "      <td>5.0</td>\n",
              "      <td>2.0</td>\n",
              "      <td>4.0</td>\n",
              "      <td>4.0</td>\n",
              "      <td>4.0</td>\n",
              "      <td>4.0</td>\n",
              "      <td>3.0</td>\n",
              "      <td>2.0</td>\n",
              "      <td>5.0</td>\n",
              "      <td>4.0</td>\n",
              "      <td>5.0</td>\n",
              "    </tr>\n",
              "    <tr>\n",
              "      <th>2909</th>\n",
              "      <td>5.0</td>\n",
              "      <td>5.0</td>\n",
              "      <td>5.0</td>\n",
              "      <td>4.0</td>\n",
              "      <td>5.0</td>\n",
              "      <td>5.0</td>\n",
              "      <td>5.0</td>\n",
              "      <td>5.0</td>\n",
              "      <td>5.0</td>\n",
              "      <td>5.0</td>\n",
              "      <td>5.0</td>\n",
              "      <td>5.0</td>\n",
              "      <td>4.0</td>\n",
              "      <td>5.0</td>\n",
              "      <td>5.0</td>\n",
              "    </tr>\n",
              "    <tr>\n",
              "      <th>3618</th>\n",
              "      <td>3.0</td>\n",
              "      <td>4.0</td>\n",
              "      <td>4.0</td>\n",
              "      <td>3.0</td>\n",
              "      <td>5.0</td>\n",
              "      <td>4.0</td>\n",
              "      <td>3.0</td>\n",
              "      <td>4.0</td>\n",
              "      <td>3.0</td>\n",
              "      <td>4.0</td>\n",
              "      <td>3.0</td>\n",
              "      <td>3.0</td>\n",
              "      <td>3.0</td>\n",
              "      <td>4.0</td>\n",
              "      <td>4.0</td>\n",
              "    </tr>\n",
              "    <tr>\n",
              "      <th>4169</th>\n",
              "      <td>4.0</td>\n",
              "      <td>5.0</td>\n",
              "      <td>5.0</td>\n",
              "      <td>4.0</td>\n",
              "      <td>5.0</td>\n",
              "      <td>5.0</td>\n",
              "      <td>5.0</td>\n",
              "      <td>5.0</td>\n",
              "      <td>5.0</td>\n",
              "      <td>4.0</td>\n",
              "      <td>4.0</td>\n",
              "      <td>5.0</td>\n",
              "      <td>4.0</td>\n",
              "      <td>5.0</td>\n",
              "      <td>5.0</td>\n",
              "    </tr>\n",
              "    <tr>\n",
              "      <th>4277</th>\n",
              "      <td>5.0</td>\n",
              "      <td>5.0</td>\n",
              "      <td>5.0</td>\n",
              "      <td>5.0</td>\n",
              "      <td>5.0</td>\n",
              "      <td>5.0</td>\n",
              "      <td>5.0</td>\n",
              "      <td>5.0</td>\n",
              "      <td>4.0</td>\n",
              "      <td>5.0</td>\n",
              "      <td>4.0</td>\n",
              "      <td>5.0</td>\n",
              "      <td>5.0</td>\n",
              "      <td>5.0</td>\n",
              "      <td>5.0</td>\n",
              "    </tr>\n",
              "    <tr>\n",
              "      <th>4344</th>\n",
              "      <td>5.0</td>\n",
              "      <td>5.0</td>\n",
              "      <td>4.0</td>\n",
              "      <td>4.0</td>\n",
              "      <td>2.0</td>\n",
              "      <td>5.0</td>\n",
              "      <td>5.0</td>\n",
              "      <td>5.0</td>\n",
              "      <td>5.0</td>\n",
              "      <td>4.0</td>\n",
              "      <td>3.0</td>\n",
              "      <td>2.0</td>\n",
              "      <td>5.0</td>\n",
              "      <td>5.0</td>\n",
              "      <td>5.0</td>\n",
              "    </tr>\n",
              "    <tr>\n",
              "      <th>5795</th>\n",
              "      <td>5.0</td>\n",
              "      <td>5.0</td>\n",
              "      <td>5.0</td>\n",
              "      <td>4.0</td>\n",
              "      <td>5.0</td>\n",
              "      <td>4.0</td>\n",
              "      <td>5.0</td>\n",
              "      <td>5.0</td>\n",
              "      <td>4.0</td>\n",
              "      <td>5.0</td>\n",
              "      <td>1.0</td>\n",
              "      <td>5.0</td>\n",
              "      <td>1.0</td>\n",
              "      <td>2.0</td>\n",
              "      <td>5.0</td>\n",
              "    </tr>\n",
              "  </tbody>\n",
              "</table>\n",
              "</div>"
            ],
            "text/plain": [
              "movieId  110   260   480   589   593   608   ...  1270  1580  2028  2571  2762  2858\n",
              "userId                                       ...                                    \n",
              "889       4.0   4.0   3.0   5.0   5.0   4.0  ...   4.0   3.0   3.0   5.0   NaN   2.0\n",
              "1015      4.0   5.0   4.0   5.0   5.0   5.0  ...   4.0   4.0   5.0   5.0   5.0   4.0\n",
              "1150      2.0   5.0   NaN   2.0   3.0   5.0  ...   2.0   2.0   2.0   1.0   2.0   4.0\n",
              "1181      3.0   4.0   2.0   5.0   3.0   3.0  ...   3.0   4.0   4.0   5.0   4.0   3.0\n",
              "1449      3.0   3.0   2.0   2.0   5.0   5.0  ...   2.0   4.0   3.0   4.0   4.0   4.0\n",
              "1680      1.0   2.0   5.0   5.0   5.0   5.0  ...   3.0   4.0   5.0   3.0   5.0   5.0\n",
              "1941      5.0   5.0   5.0   3.0   5.0   4.0  ...   5.0   5.0   5.0   3.0   5.0   1.0\n",
              "1980      4.0   4.0   4.0   4.0   5.0   5.0  ...   5.0   4.0   5.0   5.0   5.0   5.0\n",
              "2063      5.0   4.0   4.0   2.0   5.0   2.0  ...   4.0   3.0   2.0   5.0   4.0   5.0\n",
              "2909      5.0   5.0   5.0   4.0   5.0   5.0  ...   5.0   5.0   5.0   4.0   5.0   5.0\n",
              "3618      3.0   4.0   4.0   3.0   5.0   4.0  ...   4.0   3.0   3.0   3.0   4.0   4.0\n",
              "4169      4.0   5.0   5.0   4.0   5.0   5.0  ...   4.0   4.0   5.0   4.0   5.0   5.0\n",
              "4277      5.0   5.0   5.0   5.0   5.0   5.0  ...   5.0   4.0   5.0   5.0   5.0   5.0\n",
              "4344      5.0   5.0   4.0   4.0   2.0   5.0  ...   4.0   3.0   2.0   5.0   5.0   5.0\n",
              "5795      5.0   5.0   5.0   4.0   5.0   4.0  ...   5.0   1.0   5.0   1.0   2.0   5.0\n",
              "\n",
              "[15 rows x 15 columns]"
            ]
          },
          "metadata": {
            "tags": []
          },
          "execution_count": 128
        }
      ]
    },
    {
      "cell_type": "markdown",
      "metadata": {
        "id": "BKANn_9s85sC"
      },
      "source": [
        "**Dataset Preparation**"
      ]
    },
    {
      "cell_type": "code",
      "metadata": {
        "id": "DMguijI19AYa"
      },
      "source": [
        "def create_dataset(ratings, top=None):\n",
        "    if top is not None:\n",
        "        ratings.groupby('userId')['rating'].count()\n",
        "\n",
        "    unique_users = ratings.userId.unique()\n",
        "    user_to_index = {old: new for new, old in enumerate(unique_users)}\n",
        "    new_users = ratings.userId.map(user_to_index)\n",
        "\n",
        "    unique_movies = ratings.movieId.unique()\n",
        "    movie_to_index = {old: new for new, old in enumerate(unique_movies)}\n",
        "    new_movies = ratings.movieId.map(movie_to_index)\n",
        "\n",
        "    n_users = unique_users.shape[0]\n",
        "    n_movies = unique_movies.shape[0]\n",
        "\n",
        "    X = pd.DataFrame({'user_id': new_users, 'movie_id': new_movies})\n",
        "    y = ratings['rating'].astype(np.float32)\n",
        "    return (n_users, n_movies), (X, y), (user_to_index, movie_to_index)"
      ],
      "execution_count": null,
      "outputs": []
    },
    {
      "cell_type": "code",
      "metadata": {
        "id": "jjxev-rh9Ayj",
        "colab": {
          "base_uri": "https://localhost:8080/",
          "height": 66
        },
        "outputId": "299edc84-8a3a-4056-88a9-5d1ef91060a6"
      },
      "source": [
        "(n, m), (X, y), _ = create_dataset(ratings)\n",
        "print(f'Embeddings: {n} users, {m} movies')\n",
        "print(f'Dataset shape: {X.shape}')\n",
        "print(f'Target shape: {y.shape}')"
      ],
      "execution_count": null,
      "outputs": [
        {
          "output_type": "stream",
          "text": [
            "Embeddings: 6040 users, 3706 movies\n",
            "Dataset shape: (1000209, 2)\n",
            "Target shape: (1000209,)\n"
          ],
          "name": "stdout"
        }
      ]
    },
    {
      "cell_type": "code",
      "metadata": {
        "id": "oySRKg_n9FWH"
      },
      "source": [
        "\n",
        "class ReviewsIterator:\n",
        "\n",
        "    def __init__(self, X, y, batch_size=32, shuffle=True):\n",
        "        X, y = np.asarray(X), np.asarray(y)\n",
        "\n",
        "        if shuffle:\n",
        "            index = np.random.permutation(X.shape[0])\n",
        "            X, y = X[index], y[index]\n",
        "\n",
        "        self.X = X\n",
        "        self.y = y\n",
        "        self.batch_size = batch_size\n",
        "        self.shuffle = shuffle\n",
        "        self.n_batches = int(math.ceil(X.shape[0] // batch_size))\n",
        "        self._current = 0\n",
        "\n",
        "    def __iter__(self):\n",
        "        return self\n",
        "\n",
        "    def __next__(self):\n",
        "        return self.next()\n",
        "\n",
        "    def next(self):\n",
        "        if self._current >= self.n_batches:\n",
        "            raise StopIteration()\n",
        "        k = self._current\n",
        "        self._current += 1\n",
        "        bs = self.batch_size\n",
        "        return self.X[k*bs:(k + 1)*bs], self.y[k*bs:(k + 1)*bs]"
      ],
      "execution_count": null,
      "outputs": []
    },
    {
      "cell_type": "code",
      "metadata": {
        "id": "tsPQnt_x9IYJ"
      },
      "source": [
        "def batches(X, y, bs=32, shuffle=True):\n",
        "    for xb, yb in ReviewsIterator(X, y, bs, shuffle):\n",
        "        xb = torch.LongTensor(xb)\n",
        "        yb = torch.FloatTensor(yb)\n",
        "        yield xb, yb.view(-1, 1)"
      ],
      "execution_count": null,
      "outputs": []
    },
    {
      "cell_type": "markdown",
      "metadata": {
        "id": "rBuirMdza0yh"
      },
      "source": []
    },
    {
      "cell_type": "code",
      "metadata": {
        "id": "G2tieHej9Kwr",
        "colab": {
          "base_uri": "https://localhost:8080/",
          "height": 153
        },
        "outputId": "94851984-1a77-4ec6-d785-557010f7d8ef"
      },
      "source": [
        "for x_batch, y_batch in batches(X, y, bs=4):\n",
        "    print(x_batch)\n",
        "    print(y_batch)\n",
        "    break"
      ],
      "execution_count": null,
      "outputs": [
        {
          "output_type": "stream",
          "text": [
            "tensor([[3808, 2234],\n",
            "        [1388,  143],\n",
            "        [4509,  849],\n",
            "        [1016, 2393]])\n",
            "tensor([[4.],\n",
            "        [4.],\n",
            "        [2.],\n",
            "        [3.]])\n"
          ],
          "name": "stdout"
        }
      ]
    },
    {
      "cell_type": "markdown",
      "metadata": {
        "id": "3ddhoFWT9Pbl"
      },
      "source": [
        "**Embeddings**\n",
        "\n",
        "As it is a natural language dataset, embedding has to be done. We haved done it with neural based embedding, we can also try other embedding methods availble like word2vec, glove or Onehot encoding."
      ]
    },
    {
      "cell_type": "code",
      "metadata": {
        "id": "Kpak-EEm9M-J"
      },
      "source": [
        "class EmbeddingNet(nn.Module):\n",
        "    \"\"\"\n",
        "    Creates a dense network with embedding layers.\n",
        "\n",
        "    Args:\n",
        "\n",
        "        n_users:\n",
        "            Number of unique users in the dataset.\n",
        "\n",
        "        n_movies:\n",
        "            Number of unique movies in the dataset.\n",
        "\n",
        "        n_factors:\n",
        "            Number of columns in the embeddings matrix.\n",
        "\n",
        "        embedding_dropout:\n",
        "            Dropout rate to apply right after embeddings layer.\n",
        "\n",
        "        hidden:\n",
        "            A single integer or a list of integers defining the number of\n",
        "            units in hidden layer(s).\n",
        "\n",
        "        dropouts:\n",
        "            A single integer or a list of integers defining the dropout\n",
        "            layers rates applyied right after each of hidden layers.\n",
        "\n",
        "    \"\"\"\n",
        "    def __init__(self, n_users, n_movies,\n",
        "                 n_factors=50, embedding_dropout=0.02,\n",
        "                 hidden=10, dropouts=0.2):\n",
        "\n",
        "        super().__init__()\n",
        "        hidden = get_list(hidden)\n",
        "        dropouts = get_list(dropouts)\n",
        "        n_last = hidden[-1]\n",
        "\n",
        "        def gen_layers(n_in):\n",
        "            \"\"\"\n",
        "            A generator that yields a sequence of hidden layers and\n",
        "            their activations/dropouts.\n",
        "\n",
        "            Note that the function captures `hidden` and `dropouts`\n",
        "            values from the outer scope.\n",
        "            \"\"\"\n",
        "            nonlocal hidden, dropouts\n",
        "            assert len(dropouts) <= len(hidden)\n",
        "\n",
        "            for n_out, rate in zip_longest(hidden, dropouts):\n",
        "                yield nn.Linear(n_in, n_out)\n",
        "                yield nn.ReLU()\n",
        "                if rate is not None and rate > 0.:\n",
        "                    yield nn.Dropout(rate)\n",
        "                n_in = n_out\n",
        "\n",
        "        self.u = nn.Embedding(n_users, n_factors)\n",
        "        self.m = nn.Embedding(n_movies, n_factors)\n",
        "        self.drop = nn.Dropout(embedding_dropout)\n",
        "        self.hidden = nn.Sequential(*list(gen_layers(n_factors * 2)))\n",
        "        self.fc = nn.Linear(n_last, 1)\n",
        "        self._init()\n",
        "\n",
        "    def forward(self, users, movies, minmax=None):\n",
        "        features = torch.cat([self.u(users), self.m(movies)], dim=1)\n",
        "        x = self.drop(features)\n",
        "        x = self.hidden(x)\n",
        "        out = torch.sigmoid(self.fc(x))\n",
        "        if minmax is not None:\n",
        "            min_rating, max_rating = minmax\n",
        "            out = out*(max_rating - min_rating + 1) + min_rating - 0.5\n",
        "        return out\n",
        "\n",
        "    def _init(self):\n",
        "        \"\"\"\n",
        "        Setup embeddings and hidden layers with reasonable initial values.\n",
        "        \"\"\"\n",
        "\n",
        "        def init(m):\n",
        "            if type(m) == nn.Linear:\n",
        "                torch.nn.init.xavier_uniform_(m.weight)\n",
        "                m.bias.data.fill_(0.01)\n",
        "\n",
        "        self.u.weight.data.uniform_(-0.05, 0.05)\n",
        "        self.m.weight.data.uniform_(-0.05, 0.05)\n",
        "        self.hidden.apply(init)\n",
        "        init(self.fc)\n",
        "\n",
        "\n",
        "def get_list(n):\n",
        "    if isinstance(n, (int, float)):\n",
        "        return [n]\n",
        "    elif hasattr(n, '__iter__'):\n",
        "        return list(n)\n",
        "    raise TypeError('layers configuraiton should be a single number or a list of numbers')"
      ],
      "execution_count": null,
      "outputs": []
    },
    {
      "cell_type": "code",
      "metadata": {
        "id": "uJ6aOOTq96cD",
        "colab": {
          "base_uri": "https://localhost:8080/",
          "height": 196
        },
        "outputId": "d6c649a8-a44c-4e74-b60e-4147f36d4ddc"
      },
      "source": [
        "EmbeddingNet(n, m, n_factors=150, hidden=100, dropouts=0.5)\n"
      ],
      "execution_count": null,
      "outputs": [
        {
          "output_type": "execute_result",
          "data": {
            "text/plain": [
              "EmbeddingNet(\n",
              "  (u): Embedding(6040, 150)\n",
              "  (m): Embedding(3706, 150)\n",
              "  (drop): Dropout(p=0.02, inplace=False)\n",
              "  (hidden): Sequential(\n",
              "    (0): Linear(in_features=300, out_features=100, bias=True)\n",
              "    (1): ReLU()\n",
              "    (2): Dropout(p=0.5, inplace=False)\n",
              "  )\n",
              "  (fc): Linear(in_features=100, out_features=1, bias=True)\n",
              ")"
            ]
          },
          "metadata": {
            "tags": []
          },
          "execution_count": 135
        }
      ]
    },
    {
      "cell_type": "code",
      "metadata": {
        "id": "bGpq9aWz98CQ",
        "colab": {
          "base_uri": "https://localhost:8080/",
          "height": 277
        },
        "outputId": "fe04205f-c83d-4c25-d705-5e727d6c71c1"
      },
      "source": [
        "EmbeddingNet(n, m, n_factors=150, hidden=[100, 200, 300], dropouts=[0.25, 0.5])\n"
      ],
      "execution_count": null,
      "outputs": [
        {
          "output_type": "execute_result",
          "data": {
            "text/plain": [
              "EmbeddingNet(\n",
              "  (u): Embedding(6040, 150)\n",
              "  (m): Embedding(3706, 150)\n",
              "  (drop): Dropout(p=0.02, inplace=False)\n",
              "  (hidden): Sequential(\n",
              "    (0): Linear(in_features=300, out_features=100, bias=True)\n",
              "    (1): ReLU()\n",
              "    (2): Dropout(p=0.25, inplace=False)\n",
              "    (3): Linear(in_features=100, out_features=200, bias=True)\n",
              "    (4): ReLU()\n",
              "    (5): Dropout(p=0.5, inplace=False)\n",
              "    (6): Linear(in_features=200, out_features=300, bias=True)\n",
              "    (7): ReLU()\n",
              "  )\n",
              "  (fc): Linear(in_features=300, out_features=1, bias=True)\n",
              ")"
            ]
          },
          "metadata": {
            "tags": []
          },
          "execution_count": 136
        }
      ]
    },
    {
      "cell_type": "markdown",
      "metadata": {
        "id": "R8y9hcuO-AlY"
      },
      "source": [
        "**Cyclical Learning Rate (CLR)**\n",
        "\n",
        "One of the fastai library features is the cyclical learning rate scheduler. We can implement something similar inheriting the _LRScheduler class from the torch library. Following the original paper's pseudocode, this CLR Keras callback implementation, and making a couple of adjustments to support cosine annealing with restarts, let's create our own CLR scheduler.\n",
        "\n",
        "The implementation of this idea is quite simple. The base PyTorch scheduler class has the get_lr() method that is invoked each time when we call the step() method. The method should return a list of learning rates depending on the current training epoch. In our case, we have the same learning rate for all of the layers, and therefore, we return a list with a single value.\n",
        "\n",
        "The next cell defines a CyclicLR class that expectes a single callback function. This function should accept the current training epoch and the base value of learning rate, and return a new learning rate value."
      ]
    },
    {
      "cell_type": "code",
      "metadata": {
        "id": "qbSnnMp099l7"
      },
      "source": [
        "class CyclicLR(_LRScheduler):\n",
        "\n",
        "    def __init__(self, optimizer, schedule, last_epoch=-1):\n",
        "        assert callable(schedule)\n",
        "        self.schedule = schedule\n",
        "        super().__init__(optimizer, last_epoch)\n",
        "\n",
        "    def get_lr(self):\n",
        "        return [self.schedule(self.last_epoch, lr) for lr in self.base_lrs]"
      ],
      "execution_count": null,
      "outputs": []
    },
    {
      "cell_type": "code",
      "metadata": {
        "id": "7R_8iqrK-Jhp"
      },
      "source": [
        "def triangular(step_size, max_lr, method='triangular', gamma=0.99):\n",
        "\n",
        "    def scheduler(epoch, base_lr):\n",
        "        period = 2 * step_size\n",
        "        cycle = math.floor(1 + epoch/period)\n",
        "        x = abs(epoch/step_size - 2*cycle + 1)\n",
        "        delta = (max_lr - base_lr)*max(0, (1 - x))\n",
        "\n",
        "        if method == 'triangular':\n",
        "            pass  # we've already done\n",
        "        elif method == 'triangular2':\n",
        "            delta /= float(2 ** (cycle - 1))\n",
        "        elif method == 'exp_range':\n",
        "            delta *= (gamma**epoch)\n",
        "        else:\n",
        "            raise ValueError('unexpected method: %s' % method)\n",
        "\n",
        "        return base_lr + delta\n",
        "\n",
        "    return scheduler"
      ],
      "execution_count": null,
      "outputs": []
    },
    {
      "cell_type": "code",
      "metadata": {
        "id": "smzCPCHd-LVx"
      },
      "source": [
        "def cosine(t_max, eta_min=0):\n",
        "\n",
        "    def scheduler(epoch, base_lr):\n",
        "        t = epoch % t_max\n",
        "        return eta_min + (base_lr - eta_min)*(1 + math.cos(math.pi*t/t_max))/2\n",
        "\n",
        "    return scheduler"
      ],
      "execution_count": null,
      "outputs": []
    },
    {
      "cell_type": "code",
      "metadata": {
        "id": "ipaJMGst-N_2"
      },
      "source": [
        "def plot_lr(schedule):\n",
        "    ts = list(range(1000))\n",
        "    y = [schedule(t, 0.001) for t in ts]\n",
        "    plt.plot(ts, y)"
      ],
      "execution_count": null,
      "outputs": []
    },
    {
      "cell_type": "markdown",
      "metadata": {
        "id": "heZr-5if-VRF"
      },
      "source": [
        "**Training Loop**"
      ]
    },
    {
      "cell_type": "code",
      "metadata": {
        "id": "MEJg2qwu-P77"
      },
      "source": [
        "X_train, X_valid, y_train, y_valid = train_test_split(X, y, test_size=0.2, random_state=RANDOM_STATE)\n",
        "datasets = {'train': (X_train, y_train), 'val': (X_valid, y_valid)}\n",
        "dataset_sizes = {'train': len(X_train), 'val': len(X_valid)}"
      ],
      "execution_count": null,
      "outputs": []
    },
    {
      "cell_type": "code",
      "metadata": {
        "id": "o69_urDR-hH-",
        "colab": {
          "base_uri": "https://localhost:8080/",
          "height": 33
        },
        "outputId": "4b013abb-1641-4193-c962-562b3f7bb784"
      },
      "source": [
        "minmax = float(ratings.rating.min()), float(ratings.rating.max())\n",
        "minmax"
      ],
      "execution_count": null,
      "outputs": [
        {
          "output_type": "execute_result",
          "data": {
            "text/plain": [
              "(1.0, 5.0)"
            ]
          },
          "metadata": {
            "tags": []
          },
          "execution_count": 142
        }
      ]
    },
    {
      "cell_type": "code",
      "metadata": {
        "id": "jt18Wq3F-jCw"
      },
      "source": [
        "net = EmbeddingNet(\n",
        "    n_users=n, n_movies=m,\n",
        "    n_factors=150, hidden=[500, 500, 500],\n",
        "    embedding_dropout=0.05, dropouts=[0.5, 0.5, 0.25])"
      ],
      "execution_count": null,
      "outputs": []
    },
    {
      "cell_type": "code",
      "metadata": {
        "id": "ARx3Wr0r_XeT"
      },
      "source": [
        "lr = 1e-3\n",
        "wd = 1e-5\n",
        "bs = 2000\n",
        "n_epochs = 100\n",
        "patience = 10\n",
        "no_improvements = 0\n",
        "best_loss = np.inf\n",
        "best_weights = None\n",
        "history = []\n",
        "lr_history = []\n",
        "\n",
        "device = torch.device('cuda:0' if torch.cuda.is_available() else 'cpu')\n",
        "\n",
        "net.to(device)\n",
        "criterion = nn.MSELoss(reduction='sum')\n",
        "optimizer = optim.Adam(net.parameters(), lr=lr, weight_decay=wd)\n",
        "iterations_per_epoch = int(math.ceil(dataset_sizes['train'] // bs))\n",
        "scheduler = CyclicLR(optimizer, cosine(t_max=iterations_per_epoch * 2, eta_min=lr/10))"
      ],
      "execution_count": null,
      "outputs": []
    },
    {
      "cell_type": "code",
      "metadata": {
        "id": "5CBc3GV0-sLW",
        "colab": {
          "base_uri": "https://localhost:8080/",
          "height": 443
        },
        "outputId": "d368bd5c-437d-4fad-b7af-0b8495941c80"
      },
      "source": [
        "for epoch in range(n_epochs):\n",
        "    stats = {'epoch': epoch + 1, 'total': n_epochs}\n",
        "\n",
        "    for phase in ('train', 'val'):\n",
        "        if phase == 'train':\n",
        "          training = True\n",
        "        else:\n",
        "          training = False\n",
        "\n",
        "        running_loss = 0\n",
        "        n_batches = 0\n",
        "\n",
        "        for batch in batches(*datasets[phase], shuffle=training, bs=bs):\n",
        "            x_batch, y_batch = [b.to(device) for b in batch]\n",
        "            optimizer.zero_grad()\n",
        "\n",
        "            #print(x_batch[:,0])\n",
        "\n",
        "\n",
        "            # compute gradients only during 'train' phase\n",
        "            with torch.set_grad_enabled(training):\n",
        "                outputs = net(x_batch[:,0], x_batch[:,1], minmax)\n",
        "                loss = criterion(outputs, y_batch)\n",
        "\n",
        "                # don't update weights and rates when in 'val' phase\n",
        "                if training:\n",
        "                    scheduler.step()\n",
        "                    loss.backward()\n",
        "                    optimizer.step()\n",
        "                    lr_history.extend(scheduler.get_lr())\n",
        "\n",
        "            running_loss += loss.item()\n",
        "\n",
        "        epoch_loss = running_loss / dataset_sizes[phase]\n",
        "        stats[phase] = epoch_loss\n",
        "\n",
        "        # early stopping: save weights of the best model so far\n",
        "        if phase == 'val':\n",
        "            if epoch_loss < best_loss:\n",
        "                print('loss improvement on epoch: %d' % (epoch + 1))\n",
        "                best_loss = epoch_loss\n",
        "                best_weights = copy.deepcopy(net.state_dict())\n",
        "                no_improvements = 0\n",
        "            else:\n",
        "                no_improvements += 1\n",
        "\n",
        "    history.append(stats)\n",
        "    print('[{epoch:03d}/{total:03d}] train: {train:.4f} - val: {val:.4f}'.format(**stats))\n",
        "    if no_improvements >= patience:\n",
        "        print('early stopping after epoch {epoch:03d}'.format(**stats))\n",
        "        break"
      ],
      "execution_count": null,
      "outputs": [
        {
          "output_type": "stream",
          "text": [
            "/usr/local/lib/python3.6/dist-packages/torch/optim/lr_scheduler.py:123: UserWarning: Detected call of `lr_scheduler.step()` before `optimizer.step()`. In PyTorch 1.1.0 and later, you should call them in the opposite order: `optimizer.step()` before `lr_scheduler.step()`.  Failure to do this will result in PyTorch skipping the first value of the learning rate schedule. See more details at https://pytorch.org/docs/stable/optim.html#how-to-adjust-learning-rate\n",
            "  \"https://pytorch.org/docs/stable/optim.html#how-to-adjust-learning-rate\", UserWarning)\n"
          ],
          "name": "stderr"
        },
        {
          "output_type": "stream",
          "text": [
            "loss improvement on epoch: 1\n",
            "[001/100] train: 0.8870 - val: 0.8223\n",
            "loss improvement on epoch: 2\n",
            "[002/100] train: 0.7966 - val: 0.8065\n",
            "loss improvement on epoch: 3\n",
            "[003/100] train: 0.8002 - val: 0.7975\n",
            "loss improvement on epoch: 4\n",
            "[004/100] train: 0.7588 - val: 0.7867\n",
            "loss improvement on epoch: 5\n",
            "[005/100] train: 0.7669 - val: 0.7847\n",
            "loss improvement on epoch: 6\n",
            "[006/100] train: 0.7282 - val: 0.7833\n",
            "[007/100] train: 0.7407 - val: 0.7835\n",
            "[008/100] train: 0.6943 - val: 0.7899\n",
            "[009/100] train: 0.7070 - val: 0.7880\n",
            "[010/100] train: 0.6503 - val: 0.8007\n",
            "[011/100] train: 0.6664 - val: 0.7947\n",
            "[012/100] train: 0.6094 - val: 0.8143\n",
            "[013/100] train: 0.6310 - val: 0.8015\n",
            "[014/100] train: 0.5776 - val: 0.8200\n",
            "[015/100] train: 0.6013 - val: 0.8125\n",
            "[016/100] train: 0.5533 - val: 0.8263\n",
            "early stopping after epoch 016\n"
          ],
          "name": "stdout"
        }
      ]
    },
    {
      "cell_type": "code",
      "metadata": {
        "id": "6jMT80C2-yli",
        "colab": {
          "base_uri": "https://localhost:8080/",
          "height": 283
        },
        "outputId": "7b0b5b97-1cf9-4867-c2d4-5c6f034c0ad1"
      },
      "source": [
        "ax = pd.DataFrame(history).drop(columns='total').plot(x='epoch')\n"
      ],
      "execution_count": null,
      "outputs": [
        {
          "output_type": "display_data",
          "data": {
            "image/png": "[encoded data removed]",
            "text/plain": [
              "<Figure size 432x288 with 1 Axes>"
            ]
          },
          "metadata": {
            "tags": []
          }
        }
      ]
    },
    {
      "cell_type": "code",
      "metadata": {
        "id": "XK8YxbxLG0lW",
        "colab": {
          "base_uri": "https://localhost:8080/",
          "height": 265
        },
        "outputId": "97c0219b-bfc5-4446-e6a6-85c323da4ab9"
      },
      "source": [
        "_ = plt.plot(lr_history[:2*iterations_per_epoch])\n"
      ],
      "execution_count": null,
      "outputs": [
        {
          "output_type": "display_data",
          "data": {
            "image/png": "[encoded data removed]",
            "text/plain": [
              "<Figure size 432x288 with 1 Axes>"
            ]
          },
          "metadata": {
            "tags": []
          }
        }
      ]
    },
    {
      "cell_type": "code",
      "metadata": {
        "id": "Lfz3IV0uG2C_",
        "colab": {
          "base_uri": "https://localhost:8080/",
          "height": 33
        },
        "outputId": "ac2ab17d-8162-4ad0-abcb-c11eedcb9be1"
      },
      "source": [
        "net.load_state_dict(best_weights)\n"
      ],
      "execution_count": null,
      "outputs": [
        {
          "output_type": "execute_result",
          "data": {
            "text/plain": [
              "<All keys matched successfully>"
            ]
          },
          "metadata": {
            "tags": []
          },
          "execution_count": 148
        }
      ]
    },
    {
      "cell_type": "code",
      "metadata": {
        "id": "NJplX3Q5G3-l"
      },
      "source": [
        "groud_truth, predictions = [], []\n",
        "\n",
        "with torch.no_grad():\n",
        "    for batch in batches(*datasets['val'], shuffle=False, bs=bs):\n",
        "        x_batch, y_batch = [b.to(device) for b in batch]\n",
        "        outputs = net(x_batch[:, 0], x_batch[:, 1], minmax)\n",
        "        groud_truth.extend(y_batch.tolist())\n",
        "        predictions.extend(outputs.tolist())\n",
        "\n",
        "groud_truth = np.asarray(groud_truth).ravel()\n",
        "predictions = np.asarray(predictions).ravel()"
      ],
      "execution_count": null,
      "outputs": []
    },
    {
      "cell_type": "code",
      "metadata": {
        "id": "AzliskrnG-Kz",
        "colab": {
          "base_uri": "https://localhost:8080/",
          "height": 33
        },
        "outputId": "b1d99a45-c3a0-4205-c556-912413a5b36f"
      },
      "source": [
        "final_loss = np.sqrt(np.mean((predictions - groud_truth)**2))\n",
        "print(f'Final RMSE: {final_loss:.4f}')"
      ],
      "execution_count": null,
      "outputs": [
        {
          "output_type": "stream",
          "text": [
            "Final RMSE: 0.8853\n"
          ],
          "name": "stdout"
        }
      ]
    },
    {
      "cell_type": "code",
      "metadata": {
        "id": "pkOHAM3CHAdl",
        "colab": {
          "base_uri": "https://localhost:8080/",
          "height": 70
        },
        "outputId": "87deae21-d141-4b47-9651-72ae62cd0407"
      },
      "source": [
        "with open('best.weights', 'wb') as file:\n",
        "    pickle.dump(best_weights, file)"
      ],
      "execution_count": null,
      "outputs": [
        {
          "output_type": "stream",
          "text": [
            "/usr/local/lib/python3.6/dist-packages/torch/storage.py:34: FutureWarning: pickle support for Storage will be removed in 1.5. Use `torch.save` instead\n",
            "  warnings.warn(\"pickle support for Storage will be removed in 1.5. Use `torch.save` instead\", FutureWarning)\n"
          ],
          "name": "stderr"
        }
      ]
    },
    {
      "cell_type": "code",
      "metadata": {
        "id": "r8SwNpA0HCqi"
      },
      "source": [],
      "execution_count": null,
      "outputs": []
    }
  ]
}