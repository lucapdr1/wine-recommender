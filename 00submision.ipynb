{
 "cells": [
  {
   "cell_type": "markdown",
   "metadata": {},
   "source": [
    "Upload your work - A Jupyter notebook with\n",
    "\n",
    "a) brief abstract on the data you choose(see XWines_graphical presentation), your task and your key findings\n",
    "\n",
    "b) Full description of all the important process (preprocessing, training, prediction ...)\n",
    "\n",
    "c) Communicate your key finds, use visualization\n"
   ]
  }
 ],
 "metadata": {
  "language_info": {
   "name": "python"
  }
 },
 "nbformat": 4,
 "nbformat_minor": 2
}
