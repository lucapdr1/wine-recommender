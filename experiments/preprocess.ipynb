{
 "cells": [
  {
   "cell_type": "markdown",
   "metadata": {},
   "source": [
    "### Import Libraries"
   ]
  },
  {
   "cell_type": "code",
   "execution_count": 1,
   "metadata": {},
   "outputs": [],
   "source": [
    "import pandas as pd\n",
    "from mlxtend.frequent_patterns import apriori\n",
    "import numpy as np"
   ]
  },
  {
   "cell_type": "markdown",
   "metadata": {},
   "source": [
    "### Load Data and preprocess"
   ]
  },
  {
   "cell_type": "code",
   "execution_count": 2,
   "metadata": {},
   "outputs": [
    {
     "name": "stderr",
     "output_type": "stream",
     "text": [
      "C:\\Users\\P2001\\AppData\\Local\\Temp\\ipykernel_22088\\2186090489.py:1: DtypeWarning: Columns (3) have mixed types. Specify dtype option on import or set low_memory=False.\n",
      "  RatingsData = pd.read_csv(\"datasets/XWines_Full_21M_ratings.csv\")\n"
     ]
    }
   ],
   "source": [
    "RatingsData = pd.read_csv(\"datasets/XWines_Full_21M_ratings.csv\")\n",
    "\n",
    "RatingsData = RatingsData.drop(\"Date\",axis=1)\n",
    "RatingsData = RatingsData.drop(\"RatingID\",axis=1)\n",
    "\n",
    "RatingsData=RatingsData.drop_duplicates(subset=['UserID','WineID'])\n",
    "df = pd.DataFrame(RatingsData.groupby(\"WineID\")[\"UserID\"].count().sort_values(ascending=False).head(100))\n",
    "df = df.merge(RatingsData,left_on=\"WineID\",right_on=\"WineID\")\n",
    "RatingsData = df.drop(\"UserID_x\",axis=1)\n",
    "RatingsData= RatingsData.rename(columns={\"UserID_y\": \"UserID\"})\n",
    "df = pd.DataFrame(RatingsData.groupby(\"UserID\")[\"WineID\"].count().sort_values(ascending=False).head(1000))\n",
    "df = df.merge(RatingsData,left_on=\"UserID\",right_on=\"UserID\")\n",
    "RatingsData = df.drop(\"WineID_x\",axis=1)\n",
    "RatingsData= RatingsData.rename(columns={\"WineID_y\": \"WineID\"})\n",
    "RatingsDataPerWine=pd.pivot(RatingsData,index=[\"UserID\"],columns=[\"WineID\"],values=\"Rating\")\n",
    "RatingsDataPerWine = RatingsDataPerWine.replace({np.nan: None})\n",
    "RatingsDataPerWine.to_csv(\"datasets/RatingsPerWine.csv\")"
   ]
  },
  {
   "cell_type": "markdown",
   "metadata": {},
   "source": [
    "### Utility Functions"
   ]
  },
  {
   "cell_type": "code",
   "execution_count": 3,
   "metadata": {},
   "outputs": [],
   "source": [
    "def dot(u,v):\n",
    "    return sum([u[i]*v[i] for i in range(len(u)) if u[i] is not None and v[i] is not None])\n",
    "\n",
    "def length(u, v):\n",
    "    return (sum([u[i]*u[i] for i in range(len(u)) if u[i] is not None and v[i] is not None]))**0.5\n",
    "\n",
    "def bias(u):\n",
    "    u_not_none = [u[i] for i in range(len(u)) if u[i] is not None]\n",
    "    return sum(u_not_none)/len(u_not_none)\n",
    "\n",
    "def bias_a_vector(u):\n",
    "    b = bias(u)\n",
    "    return [u[i]-b if u[i] is not None else None for i in range(len(u))]\n",
    "\n",
    "def sim(u,v, bias=False, Dataset=RatingsDataPerWine):\n",
    "    if u>v:\n",
    "        return np.nan\n",
    "    u=Dataset.iloc[u].to_list()\n",
    "    v=Dataset.iloc[v].to_list()\n",
    "    if not bias:\n",
    "        return dot(u, v)/(length(u, v)*length(v, u))\n",
    "    else:\n",
    "        if (length(bias_a_vector(u), v)*length(bias_a_vector(v), u))==0 :\n",
    "            return 0\n",
    "        else :\n",
    "            return dot(bias_a_vector(u), bias_a_vector(v))/(length(bias_a_vector(u), v)*length(bias_a_vector(v), u))"
   ]
  },
  {
   "cell_type": "markdown",
   "metadata": {},
   "source": [
    "### Similarity test"
   ]
  },
  {
   "cell_type": "code",
   "execution_count": 4,
   "metadata": {},
   "outputs": [],
   "source": [
    "lenData= len(RatingsDataPerWine)\n",
    "matUserSim=[]\n",
    "for z in range(lenData):\n",
    "    matUserSim.append([sim(z,j,bias=True) for j in range(lenData)])\n",
    "\n",
    "df= pd.DataFrame(matUserSim)\n",
    "df.to_csv(\"datasets/test.csv\",index=False)"
   ]
  },
  {
   "cell_type": "code",
   "execution_count": null,
   "metadata": {},
   "outputs": [],
   "source": []
  }
 ],
 "metadata": {
  "kernelspec": {
   "display_name": "dataapp",
   "language": "python",
   "name": "python3"
  },
  "language_info": {
   "codemirror_mode": {
    "name": "ipython",
    "version": 3
   },
   "file_extension": ".py",
   "mimetype": "text/x-python",
   "name": "python",
   "nbconvert_exporter": "python",
   "pygments_lexer": "ipython3",
   "version": "3.12.2"
  }
 },
 "nbformat": 4,
 "nbformat_minor": 2
}
