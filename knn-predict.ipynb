{
 "cells": [
  {
   "cell_type": "markdown",
   "metadata": {},
   "source": [
    "### Import Libraries"
   ]
  },
  {
   "cell_type": "code",
   "execution_count": null,
   "metadata": {},
   "outputs": [],
   "source": [
    "import pandas as pd\n",
    "import numpy as np"
   ]
  },
  {
   "cell_type": "markdown",
   "metadata": {},
   "source": [
    "### Load Data"
   ]
  },
  {
   "cell_type": "code",
   "execution_count": null,
   "metadata": {},
   "outputs": [],
   "source": [
    "RatingsPerWine=pd.read_csv(\"datasets/RatingsPerWine.csv\").set_index(\"UserID\")\n",
    "SimiMatrix = pd.read_csv(\"datasets/SimMatrix.csv\")\n",
    "SimiMatrix=SimiMatrix.drop(\"Unnamed: 0\",axis=1)"
   ]
  },
  {
   "cell_type": "markdown",
   "metadata": {},
   "source": [
    "### KNN Prediciton"
   ]
  },
  {
   "cell_type": "code",
   "execution_count": null,
   "metadata": {},
   "outputs": [],
   "source": [
    "def find_KNN(user,k,SimiMatrix=SimiMatrix):\n",
    "    i=0\n",
    "    kmax=[-2 for x in range(k)]\n",
    "    kmaxIndex=[-2 for x in range(k)]\n",
    "    while i<user :\n",
    "        if SimiMatrix.iloc[i,user]>min(kmax):\n",
    "            kmax[kmax.index(min(kmax))]=SimiMatrix.iloc[i,user]\n",
    "            kmaxIndex[kmax.index(min(kmax))]=i\n",
    "        i+=1\n",
    "    i+=1\n",
    "    for i in range(i,len(SimiMatrix)):\n",
    "        if SimiMatrix.iloc[user,i]>min(kmax):\n",
    "            kmax[kmax.index(min(kmax))]=SimiMatrix.iloc[user,i]\n",
    "            kmaxIndex[kmax.index(min(kmax))]=i\n",
    "    return kmaxIndex, kmax\n",
    "\n",
    "def PredictRatings(user,RatingsPerWine=RatingsPerWine):\n",
    "    Ratings=[]\n",
    "    index, simi=find_KNN(user,15)\n",
    "    for i in index:\n",
    "        Ratings.append((RatingsPerWine.iloc[i]*simi[index.index(i)]).to_list())\n",
    "    Ratings = pd.DataFrame(Ratings,columns=RatingsPerWine.columns)\n",
    "    PredictRatings=Ratings.sum()/Ratings.count()\n",
    "\n",
    "    mask = RatingsPerWine.iloc[user].isna()\n",
    "\n",
    "    return PredictRatings*mask\n"
   ]
  },
  {
   "cell_type": "markdown",
   "metadata": {},
   "source": [
    "### Run Prediction"
   ]
  },
  {
   "cell_type": "code",
   "execution_count": null,
   "metadata": {},
   "outputs": [],
   "source": [
    "user=4\n",
    "\n",
    "print(PredictRatings(user).sort_values(ascending=False).head(5))"
   ]
  }
 ],
 "metadata": {
  "kernelspec": {
   "display_name": "dataapp",
   "language": "python",
   "name": "python3"
  },
  "language_info": {
   "name": "python",
   "version": "3.12.2"
  }
 },
 "nbformat": 4,
 "nbformat_minor": 2
}
