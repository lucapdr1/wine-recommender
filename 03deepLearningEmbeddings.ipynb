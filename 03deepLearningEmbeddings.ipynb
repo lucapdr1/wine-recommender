{
 "cells": [
  {
   "cell_type": "markdown",
   "metadata": {},
   "source": [
    "# Deep Learining approach\n",
    "The aim remains the same as before but we compute cosine similarity differently.We create a custom dataset class to generate triplets (anchor, positive, and negative samples) for training a neural network model. The model learns to project the combined features into an embedding space using fully connected layers. The training process involves optimizing a triplet margin loss to distinguish between similar and dissimilar wines. The embeddings are then extracted and used to compute cosine similarity between wines"
   ]
  },
  {
   "cell_type": "code",
   "execution_count": 1,
   "metadata": {},
   "outputs": [],
   "source": [
    "import numpy as np\n",
    "import pandas as pd\n",
    "import torch\n",
    "from torch import nn, optim\n",
    "from torch.utils.data import Dataset, DataLoader\n",
    "import matplotlib.pyplot as plt\n",
    "import seaborn as sns"
   ]
  },
  {
   "cell_type": "markdown",
   "metadata": {},
   "source": [
    "# Load the dataset"
   ]
  },
  {
   "cell_type": "code",
   "execution_count": 124,
   "metadata": {},
   "outputs": [
    {
     "data": {
      "text/html": [
       "<div>\n",
       "<style scoped>\n",
       "    .dataframe tbody tr th:only-of-type {\n",
       "        vertical-align: middle;\n",
       "    }\n",
       "\n",
       "    .dataframe tbody tr th {\n",
       "        vertical-align: top;\n",
       "    }\n",
       "\n",
       "    .dataframe thead th {\n",
       "        text-align: right;\n",
       "    }\n",
       "</style>\n",
       "<table border=\"1\" class=\"dataframe\">\n",
       "  <thead>\n",
       "    <tr style=\"text-align: right;\">\n",
       "      <th></th>\n",
       "      <th>WineID</th>\n",
       "      <th>WineName</th>\n",
       "      <th>Type</th>\n",
       "      <th>Elaborate</th>\n",
       "      <th>Grapes</th>\n",
       "      <th>Harmonize</th>\n",
       "      <th>ABV</th>\n",
       "      <th>Body</th>\n",
       "      <th>Acidity</th>\n",
       "      <th>Code</th>\n",
       "      <th>Country</th>\n",
       "      <th>RegionID</th>\n",
       "      <th>RegionName</th>\n",
       "      <th>WineryID</th>\n",
       "      <th>WineryName</th>\n",
       "      <th>Website</th>\n",
       "      <th>Vintages</th>\n",
       "    </tr>\n",
       "  </thead>\n",
       "  <tbody>\n",
       "    <tr>\n",
       "      <th>0</th>\n",
       "      <td>100001</td>\n",
       "      <td>Espumante Moscatel</td>\n",
       "      <td>Sparkling</td>\n",
       "      <td>Varietal/100%</td>\n",
       "      <td>['Muscat/Moscato']</td>\n",
       "      <td>['Pork', 'Rich Fish', 'Shellfish']</td>\n",
       "      <td>7.5</td>\n",
       "      <td>Medium-bodied</td>\n",
       "      <td>High</td>\n",
       "      <td>BR</td>\n",
       "      <td>Brazil</td>\n",
       "      <td>1001</td>\n",
       "      <td>Serra Gaúcha</td>\n",
       "      <td>10001</td>\n",
       "      <td>Casa Perini</td>\n",
       "      <td>http://www.vinicolaperini.com.br</td>\n",
       "      <td>[2020, 2019, 2018, 2017, 2016, 2015, 2014, 201...</td>\n",
       "    </tr>\n",
       "    <tr>\n",
       "      <th>1</th>\n",
       "      <td>100002</td>\n",
       "      <td>Ancellotta</td>\n",
       "      <td>Red</td>\n",
       "      <td>Varietal/100%</td>\n",
       "      <td>['Ancellotta']</td>\n",
       "      <td>['Beef', 'Barbecue', 'Codfish', 'Pasta', 'Pizz...</td>\n",
       "      <td>12.0</td>\n",
       "      <td>Medium-bodied</td>\n",
       "      <td>Medium</td>\n",
       "      <td>BR</td>\n",
       "      <td>Brazil</td>\n",
       "      <td>1001</td>\n",
       "      <td>Serra Gaúcha</td>\n",
       "      <td>10001</td>\n",
       "      <td>Casa Perini</td>\n",
       "      <td>http://www.vinicolaperini.com.br</td>\n",
       "      <td>[2016, 2015, 2014, 2013, 2012, 2011, 2010, 200...</td>\n",
       "    </tr>\n",
       "    <tr>\n",
       "      <th>2</th>\n",
       "      <td>100003</td>\n",
       "      <td>Cabernet Sauvignon</td>\n",
       "      <td>Red</td>\n",
       "      <td>Varietal/100%</td>\n",
       "      <td>['Cabernet Sauvignon']</td>\n",
       "      <td>['Beef', 'Lamb', 'Poultry']</td>\n",
       "      <td>12.0</td>\n",
       "      <td>Full-bodied</td>\n",
       "      <td>High</td>\n",
       "      <td>BR</td>\n",
       "      <td>Brazil</td>\n",
       "      <td>1001</td>\n",
       "      <td>Serra Gaúcha</td>\n",
       "      <td>10002</td>\n",
       "      <td>Castellamare</td>\n",
       "      <td>https://www.emporiocastellamare.com.br</td>\n",
       "      <td>[2021, 2020, 2019, 2018, 2017, 2016, 2015, 201...</td>\n",
       "    </tr>\n",
       "    <tr>\n",
       "      <th>3</th>\n",
       "      <td>100005</td>\n",
       "      <td>Maison de Ville Cabernet-Merlot</td>\n",
       "      <td>Red</td>\n",
       "      <td>Assemblage/Bordeaux Red Blend</td>\n",
       "      <td>['Cabernet Sauvignon', 'Merlot']</td>\n",
       "      <td>['Beef', 'Lamb', 'Game Meat', 'Poultry']</td>\n",
       "      <td>11.0</td>\n",
       "      <td>Full-bodied</td>\n",
       "      <td>Medium</td>\n",
       "      <td>BR</td>\n",
       "      <td>Brazil</td>\n",
       "      <td>1001</td>\n",
       "      <td>Serra Gaúcha</td>\n",
       "      <td>10000</td>\n",
       "      <td>Aurora</td>\n",
       "      <td>http://www.vinicolaaurora.com.br</td>\n",
       "      <td>[2021, 2020, 2019, 2018, 2017, 2016, 2015, 201...</td>\n",
       "    </tr>\n",
       "    <tr>\n",
       "      <th>4</th>\n",
       "      <td>100007</td>\n",
       "      <td>Do Lugar Moscatel Espumantes</td>\n",
       "      <td>Sparkling</td>\n",
       "      <td>Varietal/100%</td>\n",
       "      <td>['Muscat/Moscato Bianco']</td>\n",
       "      <td>['Pork', 'Rich Fish', 'Shellfish']</td>\n",
       "      <td>7.5</td>\n",
       "      <td>Medium-bodied</td>\n",
       "      <td>High</td>\n",
       "      <td>BR</td>\n",
       "      <td>Brazil</td>\n",
       "      <td>1001</td>\n",
       "      <td>Serra Gaúcha</td>\n",
       "      <td>10012</td>\n",
       "      <td>Dal Pizzol</td>\n",
       "      <td>http://www.dalpizzol.com.br</td>\n",
       "      <td>[2018, 2017, 2016, 2015, 2014, 2013, 2012, 201...</td>\n",
       "    </tr>\n",
       "  </tbody>\n",
       "</table>\n",
       "</div>"
      ],
      "text/plain": [
       "   WineID                         WineName       Type  \\\n",
       "0  100001               Espumante Moscatel  Sparkling   \n",
       "1  100002                       Ancellotta        Red   \n",
       "2  100003               Cabernet Sauvignon        Red   \n",
       "3  100005  Maison de Ville Cabernet-Merlot        Red   \n",
       "4  100007     Do Lugar Moscatel Espumantes  Sparkling   \n",
       "\n",
       "                       Elaborate                            Grapes  \\\n",
       "0                  Varietal/100%                ['Muscat/Moscato']   \n",
       "1                  Varietal/100%                    ['Ancellotta']   \n",
       "2                  Varietal/100%            ['Cabernet Sauvignon']   \n",
       "3  Assemblage/Bordeaux Red Blend  ['Cabernet Sauvignon', 'Merlot']   \n",
       "4                  Varietal/100%         ['Muscat/Moscato Bianco']   \n",
       "\n",
       "                                           Harmonize   ABV           Body  \\\n",
       "0                 ['Pork', 'Rich Fish', 'Shellfish']   7.5  Medium-bodied   \n",
       "1  ['Beef', 'Barbecue', 'Codfish', 'Pasta', 'Pizz...  12.0  Medium-bodied   \n",
       "2                        ['Beef', 'Lamb', 'Poultry']  12.0    Full-bodied   \n",
       "3           ['Beef', 'Lamb', 'Game Meat', 'Poultry']  11.0    Full-bodied   \n",
       "4                 ['Pork', 'Rich Fish', 'Shellfish']   7.5  Medium-bodied   \n",
       "\n",
       "  Acidity Code Country  RegionID    RegionName  WineryID    WineryName  \\\n",
       "0    High   BR  Brazil      1001  Serra Gaúcha     10001   Casa Perini   \n",
       "1  Medium   BR  Brazil      1001  Serra Gaúcha     10001   Casa Perini   \n",
       "2    High   BR  Brazil      1001  Serra Gaúcha     10002  Castellamare   \n",
       "3  Medium   BR  Brazil      1001  Serra Gaúcha     10000        Aurora   \n",
       "4    High   BR  Brazil      1001  Serra Gaúcha     10012    Dal Pizzol   \n",
       "\n",
       "                                  Website  \\\n",
       "0        http://www.vinicolaperini.com.br   \n",
       "1        http://www.vinicolaperini.com.br   \n",
       "2  https://www.emporiocastellamare.com.br   \n",
       "3        http://www.vinicolaaurora.com.br   \n",
       "4             http://www.dalpizzol.com.br   \n",
       "\n",
       "                                            Vintages  \n",
       "0  [2020, 2019, 2018, 2017, 2016, 2015, 2014, 201...  \n",
       "1  [2016, 2015, 2014, 2013, 2012, 2011, 2010, 200...  \n",
       "2  [2021, 2020, 2019, 2018, 2017, 2016, 2015, 201...  \n",
       "3  [2021, 2020, 2019, 2018, 2017, 2016, 2015, 201...  \n",
       "4  [2018, 2017, 2016, 2015, 2014, 2013, 2012, 201...  "
      ]
     },
     "execution_count": 124,
     "metadata": {},
     "output_type": "execute_result"
    }
   ],
   "source": [
    "\n",
    "wines = pd.read_csv(\"XWines_Slim_1K_wines.csv\", low_memory=False, encoding=\"utf-8\", memory_map=True)\n",
    "wines.head()"
   ]
  },
  {
   "cell_type": "code",
   "execution_count": 125,
   "metadata": {},
   "outputs": [],
   "source": [
    "# Map wine_id to indices\n",
    "wine_ids = wines['WineID'].unique()\n",
    "wine_to_index = {id: index for index, id in enumerate(wine_ids)}\n",
    "index_to_wine = {index: id for index, id in enumerate(wine_ids)}"
   ]
  },
  {
   "cell_type": "markdown",
   "metadata": {},
   "source": [
    "# Define features that will be embedded in the NN"
   ]
  },
  {
   "cell_type": "code",
   "execution_count": 126,
   "metadata": {},
   "outputs": [],
   "source": [
    "# Define continuous and categorical feature names\n",
    "continuous_features_names = [\"ABV\"]\n",
    "categorical_features_names = [\"Type\",\"Body\",\"Acidity\"]  # Add more categorical features as needed\n",
    "\n",
    "# Extract continuous features\n",
    "continuous_features = wines[continuous_features_names]\n",
    "\n",
    "# Normalize continuous features\n",
    "continuous_features = (continuous_features - continuous_features.mean()) / continuous_features.std()\n",
    "\n",
    "# Extract categorical features\n",
    "categorical_features = wines[categorical_features_names]\n",
    "\n",
    "# Perform one-hot encoding on categorical features\n",
    "categorical_features = pd.get_dummies(categorical_features, columns=categorical_features_names)\n",
    "\n",
    "# Combine continuous and categorical features\n",
    "features = pd.concat([continuous_features, categorical_features], axis=1)\n",
    "\n",
    "# Convert features to numpy array\n",
    "wine_features = features.to_numpy()\n",
    "\n",
    "# Update the original DataFrame with normalized continuous features and one-hot encoded categorical features\n",
    "wines.drop(columns=continuous_features_names + categorical_features_names, inplace=True)\n",
    "wines = pd.concat([wines, features], axis=1)\n",
    "\n",
    "all_feature_names = np.concatenate((continuous_features.columns.values, categorical_features.columns.values))\n"
   ]
  },
  {
   "cell_type": "markdown",
   "metadata": {},
   "source": [
    "# Create a simple dataset and dataloader\n",
    "A custom dataset class is defined for triplet training, which involves selecting an anchor wine, a positive (similar) wine, and a negative (dissimilar) wine. Random selection ensures a diverse set of training samples. The DataLoader facilitates efficient batch processing and shuffling, which is essential for effective training of the model."
   ]
  },
  {
   "cell_type": "code",
   "execution_count": 127,
   "metadata": {},
   "outputs": [],
   "source": [
    "class WineTripletDataset(Dataset):\n",
    "    def __init__(self, df):\n",
    "        self.wine_ids = df['WineID'].values\n",
    "        self.features = df[all_feature_names].astype('float64').values\n",
    "        self.num_wines = len(self.wine_ids)\n",
    "    \n",
    "    def __len__(self):\n",
    "        return self.num_wines\n",
    "    \n",
    "    def __getitem__(self, idx):\n",
    "        anchor_features = self.features[idx]\n",
    "        positive_idx = np.random.randint(0, self.num_wines)\n",
    "        negative_idx = np.random.randint(0, self.num_wines)\n",
    "        positive_features = self.features[positive_idx]\n",
    "        negative_features = self.features[negative_idx]\n",
    "        return (\n",
    "            torch.tensor(anchor_features, dtype=torch.float32),\n",
    "            torch.tensor(positive_features, dtype=torch.float32),\n",
    "            torch.tensor(negative_features, dtype=torch.float32)\n",
    "        )\n",
    "\n",
    "triplet_dataset = WineTripletDataset(wines)\n",
    "triplet_dataloader = DataLoader(triplet_dataset, batch_size=64, shuffle=True)\n"
   ]
  },
  {
   "cell_type": "markdown",
   "metadata": {},
   "source": [
    "# Define the model\n",
    "We define a simple neural network model with an embedding layer that learns a vector representation (embedding) for each wine. The embedding dimension is set to 50, which balances between capturing enough detail and computational efficiency. This model transforms wine IDs into meaningful vectors in a lower-dimensional space."
   ]
  },
  {
   "cell_type": "code",
   "execution_count": 128,
   "metadata": {},
   "outputs": [],
   "source": [
    "class WineEmbeddingModel(nn.Module):\n",
    "    def __init__(self, input_dim, embedding_dim=50):\n",
    "        super(WineEmbeddingModel, self).__init__()\n",
    "        self.fc1 = nn.Linear(input_dim, embedding_dim)\n",
    "        self.fc2 = nn.Linear(embedding_dim, embedding_dim)\n",
    "    \n",
    "    def forward(self, features):\n",
    "        x = F.relu(self.fc1(features))\n",
    "        x = self.fc2(x)\n",
    "        return x\n",
    "\n",
    "input_dim = wine_features.shape[1]\n",
    "embedding_dim = 50\n",
    "model = WineEmbeddingModel(input_dim, embedding_dim)\n"
   ]
  },
  {
   "cell_type": "markdown",
   "metadata": {},
   "source": [
    "# Loss and optimizer\n",
    "The TripletMarginLoss is chosen as it encourages the model to learn embeddings where the positive wine is closer to the anchor wine than the negative wine by a margin. The Adam optimizer is used for its efficiency and adaptive learning rate capabilities, helping in faster convergence."
   ]
  },
  {
   "cell_type": "code",
   "execution_count": 129,
   "metadata": {},
   "outputs": [],
   "source": [
    "criterion = nn.TripletMarginLoss(margin=1.0)\n",
    "optimizer = optim.Adam(model.parameters(), lr=0.001)"
   ]
  },
  {
   "cell_type": "markdown",
   "metadata": {},
   "source": [
    "# Train the model to learn embeddings\n",
    "This function trains the model using the triplet loss. For each epoch, the model processes batches of triplets (anchor, positive, negative), computes the embeddings, calculates the loss, and updates the model parameters. Printing the loss per epoch helps monitor training progress and performance."
   ]
  },
  {
   "cell_type": "code",
   "execution_count": 130,
   "metadata": {},
   "outputs": [
    {
     "name": "stdout",
     "output_type": "stream",
     "text": [
      "Epoch 1, Loss: 1.011407308280468\n",
      "Epoch 2, Loss: 1.002706728875637\n",
      "Epoch 3, Loss: 0.9978330470621586\n",
      "Epoch 4, Loss: 1.0087794251739979\n",
      "Epoch 5, Loss: 1.0158899500966072\n",
      "Epoch 6, Loss: 1.008844394236803\n",
      "Epoch 7, Loss: 1.014728032052517\n",
      "Epoch 8, Loss: 1.0174224227666855\n",
      "Epoch 9, Loss: 0.9932498522102833\n",
      "Epoch 10, Loss: 0.9997382685542107\n"
     ]
    }
   ],
   "source": [
    "def train_triplet(model, dataloader, criterion, optimizer, epochs=10):\n",
    "    model.train()\n",
    "    for epoch in range(epochs):\n",
    "        total_loss = 0\n",
    "        for anchor_features, positive_features, negative_features in dataloader:\n",
    "            optimizer.zero_grad()\n",
    "            anchor_embedding = model(anchor_features)\n",
    "            positive_embedding = model(positive_features)\n",
    "            negative_embedding = model(negative_features)\n",
    "            loss = criterion(anchor_embedding, positive_embedding, negative_embedding)\n",
    "            loss.backward()\n",
    "            optimizer.step()\n",
    "            total_loss += loss.item()\n",
    "        print(f'Epoch {epoch+1}, Loss: {total_loss / len(dataloader)}')\n",
    "\n",
    "train_triplet(model, triplet_dataloader, criterion, optimizer, epochs=10)\n"
   ]
  },
  {
   "cell_type": "markdown",
   "metadata": {},
   "source": [
    "# Extract embeddings\n",
    "After training, we extract the learned embeddings from the model. These embeddings are numerical representations of wines in a lower-dimensional space, capturing similarities and differences based on the training process."
   ]
  },
  {
   "cell_type": "code",
   "execution_count": 131,
   "metadata": {},
   "outputs": [],
   "source": [
    "wine_embeddings = model.fc1.weight.data.numpy()"
   ]
  },
  {
   "cell_type": "markdown",
   "metadata": {},
   "source": [
    "# Function to find similar wines\n",
    "This function identifies wines similar to a given wine based on cosine similarity of their embeddings. "
   ]
  },
  {
   "cell_type": "code",
   "execution_count": 132,
   "metadata": {},
   "outputs": [],
   "source": [
    "def find_similar_wines(wine_id, wine_embeddings, num_recommendations=5):\n",
    "    wine_index = wine_to_index[wine_id]\n",
    "    wine_embedding = wine_embeddings[wine_index]\n",
    "    \n",
    "    # Compute cosine similarity\n",
    "    cosine_similarities = np.dot(wine_embeddings, wine_embedding) / (np.linalg.norm(wine_embeddings, axis=1) * np.linalg.norm(wine_embedding))\n",
    "    \n",
    "    similar_indices = np.argsort(cosine_similarities)[::-1]\n",
    "    similar_wine_ids = [index_to_wine[idx] for idx in similar_indices[:num_recommendations + 1] if idx != wine_index][:num_recommendations]\n",
    "    similar_values = [cosine_similarities[idx] for idx in similar_indices[:num_recommendations + 1] if idx != wine_index][:num_recommendations]\n",
    "    \n",
    "    return list(zip(similar_wine_ids, similar_values))\n"
   ]
  },
  {
   "cell_type": "markdown",
   "metadata": {},
   "source": [
    "# Example: Find similar wines to a given wine"
   ]
  },
  {
   "cell_type": "code",
   "execution_count": 138,
   "metadata": {},
   "outputs": [
    {
     "name": "stdout",
     "output_type": "stream",
     "text": [
      "Top similar wines to 100056: [(100125, 0.60709673), (101154, 0.60467243), (100046, 0.5064467), (100135, 0.4525203), (100062, 0.35423604)]\n"
     ]
    }
   ],
   "source": [
    "#input_wine_id = wines['WineID'].iloc[0]\n",
    "\n",
    "#input_wine_id = 100003 #french\n",
    "input_wine_id = 100056 #italian\n",
    "\n",
    "similar_wines = find_similar_wines(input_wine_id, wine_embeddings)\n",
    "print(f\"Top similar wines to {input_wine_id}: {similar_wines}\")"
   ]
  },
  {
   "cell_type": "markdown",
   "metadata": {},
   "source": [
    "# Visualization of results"
   ]
  },
  {
   "cell_type": "code",
   "execution_count": 139,
   "metadata": {},
   "outputs": [],
   "source": [
    "def visualize_similar_wines(input_wine_id, similar_wine_data):\n",
    "    input_wine_name = wines[wines['WineID'] == input_wine_id]['WineName'].values[0]\n",
    "    similar_wine_names = [wines[wines['WineID'] == wine_id]['WineName'].values[0] for wine_id, _ in similar_wine_data]\n",
    "    similar_values = [similarity for _, similarity in similar_wine_data]\n",
    "\n",
    "    plt.figure(figsize=(10, 6))\n",
    "    sns.barplot(x=similar_wine_names, y=similar_values, palette=\"viridis\")\n",
    "    plt.title(f\"Top similar wines to {input_wine_name}\")\n",
    "    plt.ylabel('Similarity')\n",
    "    plt.xlabel('Wine Name')\n",
    "    plt.xticks(rotation=45)\n",
    "    plt.show()"
   ]
  },
  {
   "cell_type": "code",
   "execution_count": 140,
   "metadata": {},
   "outputs": [
    {
     "name": "stderr",
     "output_type": "stream",
     "text": [
      "C:\\Users\\P2001\\AppData\\Local\\Temp\\ipykernel_17116\\3917695745.py:7: FutureWarning: \n",
      "\n",
      "Passing `palette` without assigning `hue` is deprecated and will be removed in v0.14.0. Assign the `x` variable to `hue` and set `legend=False` for the same effect.\n",
      "\n",
      "  sns.barplot(x=similar_wine_names, y=similar_values, palette=\"viridis\")\n"
     ]
    },
    {
     "data": {
      "image/png": "[encoded data removed]",
      "text/plain": [
       "<Figure size 1000x600 with 1 Axes>"
      ]
     },
     "metadata": {},
     "output_type": "display_data"
    }
   ],
   "source": [
    "visualize_similar_wines(input_wine_id, similar_wines)"
   ]
  },
  {
   "cell_type": "markdown",
   "metadata": {},
   "source": []
  }
 ],
 "metadata": {
  "kernelspec": {
   "display_name": "dataapp",
   "language": "python",
   "name": "python3"
  },
  "language_info": {
   "codemirror_mode": {
    "name": "ipython",
    "version": 3
   },
   "file_extension": ".py",
   "mimetype": "text/x-python",
   "name": "python",
   "nbconvert_exporter": "python",
   "pygments_lexer": "ipython3",
   "version": "3.12.2"
  }
 },
 "nbformat": 4,
 "nbformat_minor": 2
}
