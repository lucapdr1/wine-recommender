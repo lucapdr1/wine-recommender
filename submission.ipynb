{
 "cells": [
  {
   "cell_type": "markdown",
   "metadata": {},
   "source": [
    "# Content-based recommendation for wine :"
   ]
  },
  {
   "cell_type": "markdown",
   "metadata": {},
   "source": [
    "##### Valentin Tharaud - Luca Pedranzini\n",
    "\n",
    "## About the dataset\n",
    "X-Wines: A wine dataset for recommender systems and machine learning<br>\n",
    "Rogério Xavier de Azambuja (rogerio.xavier@farroupilha.ifrs.edu.br)<br>\n",
    "Dataset X-Wines from https://github.com/rogerioxavier/X-Wines<br><br>\n",
    "\n",
    "Link to the data necessary to run the project: https://drive.google.com/drive/folders/1iC90-CMZOpFd3fJlpntbAl8J1VxfcWth?usp=sharing"
   ]
  },
  {
   "cell_type": "code",
   "execution_count": null,
   "metadata": {},
   "outputs": [],
   "source": [
    "# Basic libraries\n",
    "import pandas as pd\n",
    "\n",
    "# Display basic configs\n",
    "pd.set_option('display.max_columns', None) \n",
    "pd.set_option('display.max_rows', 100) # default= None\n",
    "pd.options.mode.chained_assignment = None  # default='warn'"
   ]
  },
  {
   "cell_type": "code",
   "execution_count": null,
   "metadata": {},
   "outputs": [
    {
     "data": {
      "text/plain": [
       "1007"
      ]
     },
     "metadata": {},
     "output_type": "display_data"
    }
   ],
   "source": [
    "# Opening X-Wines dataset\n",
    "wines = pd.read_csv(\"XWines_Slim_1K_wines.csv\", low_memory=False, encoding=\"utf-8\", memory_map=True)\n",
    "len(wines)"
   ]
  },
  {
   "cell_type": "code",
   "execution_count": null,
   "metadata": {},
   "outputs": [
    {
     "name": "stdout",
     "output_type": "stream",
     "text": [
      "Total wines: 1007 from 31 different countries\n"
     ]
    }
   ],
   "source": [
    "print(\"Total wines:\", wines.WineID.nunique(), \"from\", wines.Code.nunique() ,\"different countries\")"
   ]
  },
  {
   "cell_type": "code",
   "execution_count": null,
   "metadata": {},
   "outputs": [
    {
     "name": "stdout",
     "output_type": "stream",
     "text": [
      "<class 'pandas.core.frame.DataFrame'>\n",
      "RangeIndex: 1007 entries, 0 to 1006\n",
      "Data columns (total 17 columns):\n",
      " #   Column      Non-Null Count  Dtype  \n",
      "---  ------      --------------  -----  \n",
      " 0   WineID      1007 non-null   int64  \n",
      " 1   WineName    1007 non-null   object \n",
      " 2   Type        1007 non-null   object \n",
      " 3   Elaborate   1007 non-null   object \n",
      " 4   Grapes      1007 non-null   object \n",
      " 5   Harmonize   1007 non-null   object \n",
      " 6   ABV         1007 non-null   float64\n",
      " 7   Body        1007 non-null   object \n",
      " 8   Acidity     1007 non-null   object \n",
      " 9   Code        1007 non-null   object \n",
      " 10  Country     1007 non-null   object \n",
      " 11  RegionID    1007 non-null   int64  \n",
      " 12  RegionName  1007 non-null   object \n",
      " 13  WineryID    1007 non-null   int64  \n",
      " 14  WineryName  1007 non-null   object \n",
      " 15  Website     900 non-null    object \n",
      " 16  Vintages    1007 non-null   object \n",
      "dtypes: float64(1), int64(3), object(13)\n",
      "memory usage: 133.9+ KB\n"
     ]
    },
    {
     "data": {
      "text/plain": [
       "(None,\n",
       " WineID          0\n",
       " WineName        0\n",
       " Type            0\n",
       " Elaborate       0\n",
       " Grapes          0\n",
       " Harmonize       0\n",
       " ABV             0\n",
       " Body            0\n",
       " Acidity         0\n",
       " Code            0\n",
       " Country         0\n",
       " RegionID        0\n",
       " RegionName      0\n",
       " WineryID        0\n",
       " WineryName      0\n",
       " Website       107\n",
       " Vintages        0\n",
       " dtype: int64)"
      ]
     },
     "metadata": {},
     "output_type": "display_data"
    }
   ],
   "source": [
    "wines.info(), wines.isnull().sum()"
   ]
  },
  {
   "cell_type": "code",
   "execution_count": null,
   "metadata": {},
   "outputs": [
    {
     "data": {
      "text/plain": [
       "Type\n",
       "Red             506\n",
       "White           232\n",
       "Sparkling       100\n",
       "Rosé             85\n",
       "Dessert          59\n",
       "Dessert/Port     25\n",
       "Name: count, dtype: int64"
      ]
     },
     "metadata": {},
     "output_type": "display_data"
    }
   ],
   "source": [
    "wines.Type.value_counts()"
   ]
  },
  {
   "cell_type": "code",
   "execution_count": null,
   "metadata": {},
   "outputs": [
    {
     "data": {
      "text/plain": [
       "Body\n",
       "Full-bodied          392\n",
       "Medium-bodied        348\n",
       "Very full-bodied     134\n",
       "Light-bodied         118\n",
       "Very light-bodied     15\n",
       "Name: count, dtype: int64"
      ]
     },
     "metadata": {},
     "output_type": "display_data"
    }
   ],
   "source": [
    "wines.Body.value_counts()"
   ]
  },
  {
   "cell_type": "code",
   "execution_count": null,
   "metadata": {},
   "outputs": [
    {
     "data": {
      "text/plain": [
       "Acidity\n",
       "High      740\n",
       "Medium    249\n",
       "Low        18\n",
       "Name: count, dtype: int64"
      ]
     },
     "metadata": {},
     "output_type": "display_data"
    }
   ],
   "source": [
    "wines.Acidity.value_counts()"
   ]
  },
  {
   "cell_type": "code",
   "execution_count": null,
   "metadata": {},
   "outputs": [
    {
     "data": {
      "text/plain": [
       "Country\n",
       "Argentina          50\n",
       "Australia          48\n",
       "Austria            18\n",
       "Brazil             48\n",
       "Canada             19\n",
       "Chile              69\n",
       "Croatia             1\n",
       "Czech Republic      2\n",
       "France            179\n",
       "Germany            54\n",
       "Greece             13\n",
       "Hungary             8\n",
       "Israel              1\n",
       "Italy             139\n",
       "Lebanon             4\n",
       "Malta               5\n",
       "Mexico              8\n",
       "Moldova             1\n",
       "New Zealand        33\n",
       "Portugal           83\n",
       "Romania             2\n",
       "Russia              7\n",
       "Slovenia            1\n",
       "South Africa       32\n",
       "Spain              48\n",
       "Switzerland         4\n",
       "Turkey              1\n",
       "Ukraine             6\n",
       "United Kingdom      1\n",
       "United States     114\n",
       "Uruguay             8\n",
       "Name: count, dtype: int64"
      ]
     },
     "metadata": {},
     "output_type": "display_data"
    }
   ],
   "source": [
    "wines.Country.value_counts().sort_index()"
   ]
  },
  {
   "cell_type": "markdown",
   "metadata": {},
   "source": [
    "## Project Goals\n",
    "\n",
    "The primary goal of this project is to develop a system that can identify wines similar to a given wine from the dataset.\n",
    "\n",
    "### Approaches\n",
    "\n",
    "1. **K-Nearest Neighbors (KNN) on Principal Component Analysis (PCA)**:\n",
    "   - Reduce the dimensionality of the dataset using PCA.\n",
    "   - Use KNN to find wines similar to the target wine based on the reduced dimensions.\n",
    "\n",
    "2. **Cosine Similarity on Singular Value Decomposition (SVD)**:\n",
    "   - Apply SVD to decompose the dataset.\n",
    "   - Compute cosine similarity between wines based on the resulting components.\n",
    "\n",
    "3. **Cosine Similarity with Neural Network Embeddings**:\n",
    "   - Train a neural network to learn embeddings for the wines.\n",
    "   - Use cosine similarity to find similar wines based on these learned embeddings.\n",
    "\n",
    "### Expected Outcome\n",
    "\n",
    "Since both the KNN on PCA and the cosine similarity on SVD approaches involve computing cosine distances, we anticipate that they will yield similar results. The experiment with neural network embeddings aims to compare and possibly enhance the effectiveness of similarity detection using learned representations."
   ]
  },
  {
   "cell_type": "markdown",
   "metadata": {},
   "source": [
    "## Preprocess the Wine dataset :"
   ]
  },
  {
   "cell_type": "markdown",
   "metadata": {},
   "source": [
    "### Problem of the dataset :\n",
    "\n",
    "This Wine data are unusable in this state, why is that ? Because they are almost all textual variable, and a computer can't process them and compare them in this state or not like we want him to compare them."
   ]
  },
  {
   "cell_type": "markdown",
   "metadata": {},
   "source": [
    "### Readind and processing the data :\n"
   ]
  },
  {
   "cell_type": "markdown",
   "metadata": {},
   "source": [
    "#### Importing the required library :"
   ]
  },
  {
   "cell_type": "code",
   "execution_count": 1,
   "metadata": {},
   "outputs": [],
   "source": [
    "import pandas as pd\n",
    "import numpy as np\n",
    "\n",
    "#Newt library are only for presentation purposes\n",
    "import warnings\n",
    "warnings.filterwarnings('ignore')\n",
    "from IPython.display import HTML\n",
    "\n"
   ]
  },
  {
   "cell_type": "markdown",
   "metadata": {},
   "source": [
    "#### Reading the data :"
   ]
  },
  {
   "cell_type": "markdown",
   "metadata": {},
   "source": [
    "We **drop** some column that we did consider **not usefull** to compare the wines."
   ]
  },
  {
   "cell_type": "code",
   "execution_count": 4,
   "metadata": {},
   "outputs": [
    {
     "data": {
      "text/html": [
       "<div>\n",
       "<style scoped>\n",
       "    .dataframe tbody tr th:only-of-type {\n",
       "        vertical-align: middle;\n",
       "    }\n",
       "\n",
       "    .dataframe tbody tr th {\n",
       "        vertical-align: top;\n",
       "    }\n",
       "\n",
       "    .dataframe thead th {\n",
       "        text-align: right;\n",
       "    }\n",
       "</style>\n",
       "<table border=\"1\" class=\"dataframe\">\n",
       "  <thead>\n",
       "    <tr style=\"text-align: right;\">\n",
       "      <th></th>\n",
       "      <th>WineID</th>\n",
       "      <th>WineName</th>\n",
       "      <th>Type</th>\n",
       "      <th>Elaborate</th>\n",
       "      <th>Grapes</th>\n",
       "      <th>Harmonize</th>\n",
       "      <th>ABV</th>\n",
       "      <th>Body</th>\n",
       "      <th>Acidity</th>\n",
       "      <th>Country</th>\n",
       "      <th>RegionName</th>\n",
       "    </tr>\n",
       "  </thead>\n",
       "  <tbody>\n",
       "    <tr>\n",
       "      <th>0</th>\n",
       "      <td>100001</td>\n",
       "      <td>Espumante Moscatel</td>\n",
       "      <td>Sparkling</td>\n",
       "      <td>Varietal/100%</td>\n",
       "      <td>['Muscat/Moscato']</td>\n",
       "      <td>['Pork', 'Rich Fish', 'Shellfish']</td>\n",
       "      <td>7.5</td>\n",
       "      <td>Medium-bodied</td>\n",
       "      <td>High</td>\n",
       "      <td>Brazil</td>\n",
       "      <td>Serra Gaúcha</td>\n",
       "    </tr>\n",
       "    <tr>\n",
       "      <th>1</th>\n",
       "      <td>100002</td>\n",
       "      <td>Ancellotta</td>\n",
       "      <td>Red</td>\n",
       "      <td>Varietal/100%</td>\n",
       "      <td>['Ancellotta']</td>\n",
       "      <td>['Beef', 'Barbecue', 'Codfish', 'Pasta', 'Pizz...</td>\n",
       "      <td>12.0</td>\n",
       "      <td>Medium-bodied</td>\n",
       "      <td>Medium</td>\n",
       "      <td>Brazil</td>\n",
       "      <td>Serra Gaúcha</td>\n",
       "    </tr>\n",
       "    <tr>\n",
       "      <th>2</th>\n",
       "      <td>100003</td>\n",
       "      <td>Cabernet Sauvignon</td>\n",
       "      <td>Red</td>\n",
       "      <td>Varietal/100%</td>\n",
       "      <td>['Cabernet Sauvignon']</td>\n",
       "      <td>['Beef', 'Lamb', 'Poultry']</td>\n",
       "      <td>12.0</td>\n",
       "      <td>Full-bodied</td>\n",
       "      <td>High</td>\n",
       "      <td>Brazil</td>\n",
       "      <td>Serra Gaúcha</td>\n",
       "    </tr>\n",
       "    <tr>\n",
       "      <th>3</th>\n",
       "      <td>100005</td>\n",
       "      <td>Maison de Ville Cabernet-Merlot</td>\n",
       "      <td>Red</td>\n",
       "      <td>Assemblage/Bordeaux Red Blend</td>\n",
       "      <td>['Cabernet Sauvignon', 'Merlot']</td>\n",
       "      <td>['Beef', 'Lamb', 'Game Meat', 'Poultry']</td>\n",
       "      <td>11.0</td>\n",
       "      <td>Full-bodied</td>\n",
       "      <td>Medium</td>\n",
       "      <td>Brazil</td>\n",
       "      <td>Serra Gaúcha</td>\n",
       "    </tr>\n",
       "    <tr>\n",
       "      <th>4</th>\n",
       "      <td>100007</td>\n",
       "      <td>Do Lugar Moscatel Espumantes</td>\n",
       "      <td>Sparkling</td>\n",
       "      <td>Varietal/100%</td>\n",
       "      <td>['Muscat/Moscato Bianco']</td>\n",
       "      <td>['Pork', 'Rich Fish', 'Shellfish']</td>\n",
       "      <td>7.5</td>\n",
       "      <td>Medium-bodied</td>\n",
       "      <td>High</td>\n",
       "      <td>Brazil</td>\n",
       "      <td>Serra Gaúcha</td>\n",
       "    </tr>\n",
       "    <tr>\n",
       "      <th>...</th>\n",
       "      <td>...</td>\n",
       "      <td>...</td>\n",
       "      <td>...</td>\n",
       "      <td>...</td>\n",
       "      <td>...</td>\n",
       "      <td>...</td>\n",
       "      <td>...</td>\n",
       "      <td>...</td>\n",
       "      <td>...</td>\n",
       "      <td>...</td>\n",
       "      <td>...</td>\n",
       "    </tr>\n",
       "    <tr>\n",
       "      <th>1002</th>\n",
       "      <td>199408</td>\n",
       "      <td>Petite Arvine</td>\n",
       "      <td>White</td>\n",
       "      <td>Varietal/100%</td>\n",
       "      <td>['Petite Arvine']</td>\n",
       "      <td>['Pasta', 'Shellfish', 'Maturated Cheese', 'Ha...</td>\n",
       "      <td>13.5</td>\n",
       "      <td>Medium-bodied</td>\n",
       "      <td>High</td>\n",
       "      <td>Switzerland</td>\n",
       "      <td>Valais</td>\n",
       "    </tr>\n",
       "    <tr>\n",
       "      <th>1003</th>\n",
       "      <td>199481</td>\n",
       "      <td>St. Laurent Reserve</td>\n",
       "      <td>Red</td>\n",
       "      <td>Varietal/100%</td>\n",
       "      <td>['St. Laurent']</td>\n",
       "      <td>['Beef', 'Lamb', 'Game Meat']</td>\n",
       "      <td>14.0</td>\n",
       "      <td>Medium-bodied</td>\n",
       "      <td>High</td>\n",
       "      <td>Austria</td>\n",
       "      <td>Mittelburgenland</td>\n",
       "    </tr>\n",
       "    <tr>\n",
       "      <th>1004</th>\n",
       "      <td>199533</td>\n",
       "      <td>Mariengarten Chardonnay</td>\n",
       "      <td>White</td>\n",
       "      <td>Varietal/100%</td>\n",
       "      <td>['Chardonnay']</td>\n",
       "      <td>['Pork', 'Rich Fish', 'Vegetarian', 'Poultry']</td>\n",
       "      <td>12.2</td>\n",
       "      <td>Full-bodied</td>\n",
       "      <td>High</td>\n",
       "      <td>Austria</td>\n",
       "      <td>Südsteiermark</td>\n",
       "    </tr>\n",
       "    <tr>\n",
       "      <th>1005</th>\n",
       "      <td>199885</td>\n",
       "      <td>Grüner Veltliner Federspiel Ried Kreuzberg</td>\n",
       "      <td>White</td>\n",
       "      <td>Varietal/100%</td>\n",
       "      <td>['Grüner Veltliner']</td>\n",
       "      <td>['Pork', 'Vegetarian', 'Poultry', 'Lean Fish',...</td>\n",
       "      <td>12.2</td>\n",
       "      <td>Medium-bodied</td>\n",
       "      <td>High</td>\n",
       "      <td>Austria</td>\n",
       "      <td>Wachau</td>\n",
       "    </tr>\n",
       "    <tr>\n",
       "      <th>1006</th>\n",
       "      <td>200139</td>\n",
       "      <td>Drama Queen Rosé</td>\n",
       "      <td>Rosé</td>\n",
       "      <td>Varietal/100%</td>\n",
       "      <td>['Syrah/Shiraz']</td>\n",
       "      <td>['Beef', 'Lamb', 'Spicy Food', 'Maturated Chee...</td>\n",
       "      <td>13.0</td>\n",
       "      <td>Full-bodied</td>\n",
       "      <td>Medium</td>\n",
       "      <td>New Zealand</td>\n",
       "      <td>North Island</td>\n",
       "    </tr>\n",
       "  </tbody>\n",
       "</table>\n",
       "<p>1007 rows × 11 columns</p>\n",
       "</div>"
      ],
      "text/plain": [
       "      WineID                                    WineName       Type  \\\n",
       "0     100001                          Espumante Moscatel  Sparkling   \n",
       "1     100002                                  Ancellotta        Red   \n",
       "2     100003                          Cabernet Sauvignon        Red   \n",
       "3     100005             Maison de Ville Cabernet-Merlot        Red   \n",
       "4     100007                Do Lugar Moscatel Espumantes  Sparkling   \n",
       "...      ...                                         ...        ...   \n",
       "1002  199408                               Petite Arvine      White   \n",
       "1003  199481                         St. Laurent Reserve        Red   \n",
       "1004  199533                     Mariengarten Chardonnay      White   \n",
       "1005  199885  Grüner Veltliner Federspiel Ried Kreuzberg      White   \n",
       "1006  200139                            Drama Queen Rosé       Rosé   \n",
       "\n",
       "                          Elaborate                            Grapes  \\\n",
       "0                     Varietal/100%                ['Muscat/Moscato']   \n",
       "1                     Varietal/100%                    ['Ancellotta']   \n",
       "2                     Varietal/100%            ['Cabernet Sauvignon']   \n",
       "3     Assemblage/Bordeaux Red Blend  ['Cabernet Sauvignon', 'Merlot']   \n",
       "4                     Varietal/100%         ['Muscat/Moscato Bianco']   \n",
       "...                             ...                               ...   \n",
       "1002                  Varietal/100%                 ['Petite Arvine']   \n",
       "1003                  Varietal/100%                   ['St. Laurent']   \n",
       "1004                  Varietal/100%                    ['Chardonnay']   \n",
       "1005                  Varietal/100%              ['Grüner Veltliner']   \n",
       "1006                  Varietal/100%                  ['Syrah/Shiraz']   \n",
       "\n",
       "                                              Harmonize   ABV           Body  \\\n",
       "0                    ['Pork', 'Rich Fish', 'Shellfish']   7.5  Medium-bodied   \n",
       "1     ['Beef', 'Barbecue', 'Codfish', 'Pasta', 'Pizz...  12.0  Medium-bodied   \n",
       "2                           ['Beef', 'Lamb', 'Poultry']  12.0    Full-bodied   \n",
       "3              ['Beef', 'Lamb', 'Game Meat', 'Poultry']  11.0    Full-bodied   \n",
       "4                    ['Pork', 'Rich Fish', 'Shellfish']   7.5  Medium-bodied   \n",
       "...                                                 ...   ...            ...   \n",
       "1002  ['Pasta', 'Shellfish', 'Maturated Cheese', 'Ha...  13.5  Medium-bodied   \n",
       "1003                      ['Beef', 'Lamb', 'Game Meat']  14.0  Medium-bodied   \n",
       "1004     ['Pork', 'Rich Fish', 'Vegetarian', 'Poultry']  12.2    Full-bodied   \n",
       "1005  ['Pork', 'Vegetarian', 'Poultry', 'Lean Fish',...  12.2  Medium-bodied   \n",
       "1006  ['Beef', 'Lamb', 'Spicy Food', 'Maturated Chee...  13.0    Full-bodied   \n",
       "\n",
       "     Acidity      Country        RegionName  \n",
       "0       High       Brazil      Serra Gaúcha  \n",
       "1     Medium       Brazil      Serra Gaúcha  \n",
       "2       High       Brazil      Serra Gaúcha  \n",
       "3     Medium       Brazil      Serra Gaúcha  \n",
       "4       High       Brazil      Serra Gaúcha  \n",
       "...      ...          ...               ...  \n",
       "1002    High  Switzerland            Valais  \n",
       "1003    High      Austria  Mittelburgenland  \n",
       "1004    High      Austria     Südsteiermark  \n",
       "1005    High      Austria            Wachau  \n",
       "1006  Medium  New Zealand      North Island  \n",
       "\n",
       "[1007 rows x 11 columns]"
      ]
     },
     "metadata": {},
     "output_type": "display_data"
    },
    {
     "name": "stdout",
     "output_type": "stream",
     "text": [
      "Sparsity of the matrix : 0.0%\n"
     ]
    }
   ],
   "source": [
    "\n",
    "#read the data\n",
    "wineDataset = pd.read_csv(\"datasets\\XWines_Slim_1K_wines.csv\").drop(columns=[\"WineryID\",\"WineryName\",\"Website\",\"Vintages\",\"RegionID\",\"Code\"])\n",
    "wineOutName = wineDataset.drop(columns=\"WineName\")\n",
    "display(wineDataset)\n",
    "sparsityBefore = 1.0 - ( np.count_nonzero(wineDataset) / float(wineDataset.size) )\n",
    "print(f\"Sparsity of the matrix : {sparsityBefore*100}%\")\n"
   ]
  },
  {
   "cell_type": "markdown",
   "metadata": {},
   "source": [
    "*As we said in the begining, a lot of variable Have textual values*"
   ]
  },
  {
   "cell_type": "markdown",
   "metadata": {},
   "source": [
    "&nbsp;   "
   ]
  },
  {
   "cell_type": "markdown",
   "metadata": {},
   "source": [
    "We simplify some of the variable that have some small difference between two possible values to simplify the data and reduce the number of dimensions later on.   \n",
    "**Ex** : `\"Dessert/White\"` => `\"White\"`   \n",
    "   \n",
    "To do that we create a function: `get_first_split()` to only read the first part of a variable, so we can apply it to the whole column, it's more **computing efficient** and **readable**."
   ]
  },
  {
   "cell_type": "code",
   "execution_count": null,
   "metadata": {},
   "outputs": [
    {
     "data": {
      "text/html": [
       "<div style=\"width: 100%\";>\n",
       "<div style=\"width: 500px; float: left;\">\n",
       "<table border=\"1\" class=\"dataframe\">\n",
       "  <thead>\n",
       "    <tr style=\"text-align: right;\">\n",
       "      <th></th>\n",
       "      <th>Elaborate</th>\n",
       "      <th>Type</th>\n",
       "    </tr>\n",
       "  </thead>\n",
       "  <tbody>\n",
       "    <tr>\n",
       "      <th>0</th>\n",
       "      <td>Varietal/100%</td>\n",
       "      <td>Sparkling</td>\n",
       "    </tr>\n",
       "    <tr>\n",
       "      <th>1</th>\n",
       "      <td>Varietal/100%</td>\n",
       "      <td>Red</td>\n",
       "    </tr>\n",
       "    <tr>\n",
       "      <th>2</th>\n",
       "      <td>Varietal/100%</td>\n",
       "      <td>Red</td>\n",
       "    </tr>\n",
       "    <tr>\n",
       "      <th>3</th>\n",
       "      <td>Assemblage/Bordeaux Red Blend</td>\n",
       "      <td>Red</td>\n",
       "    </tr>\n",
       "    <tr>\n",
       "      <th>4</th>\n",
       "      <td>Varietal/100%</td>\n",
       "      <td>Sparkling</td>\n",
       "    </tr>\n",
       "    <tr>\n",
       "      <th>5</th>\n",
       "      <td>Varietal/100%</td>\n",
       "      <td>Red</td>\n",
       "    </tr>\n",
       "    <tr>\n",
       "      <th>6</th>\n",
       "      <td>Assemblage/Blend</td>\n",
       "      <td>Red</td>\n",
       "    </tr>\n",
       "    <tr>\n",
       "      <th>7</th>\n",
       "      <td>Assemblage/Portuguese White Blend</td>\n",
       "      <td>White</td>\n",
       "    </tr>\n",
       "    <tr>\n",
       "      <th>8</th>\n",
       "      <td>Assemblage/Port Blend</td>\n",
       "      <td>Dessert/Port</td>\n",
       "    </tr>\n",
       "    <tr>\n",
       "      <th>9</th>\n",
       "      <td>Assemblage/Port Blend</td>\n",
       "      <td>Dessert/Port</td>\n",
       "    </tr>\n",
       "  </tbody>\n",
       "</table>\n",
       "</div><div>\n",
       "<table border=\"1\" class=\"dataframe\">\n",
       "  <thead>\n",
       "    <tr style=\"text-align: right;\">\n",
       "      <th></th>\n",
       "      <th>Elaborate</th>\n",
       "      <th>Type</th>\n",
       "    </tr>\n",
       "  </thead>\n",
       "  <tbody>\n",
       "    <tr>\n",
       "      <th>0</th>\n",
       "      <td>Varietal</td>\n",
       "      <td>Sparkling</td>\n",
       "    </tr>\n",
       "    <tr>\n",
       "      <th>1</th>\n",
       "      <td>Varietal</td>\n",
       "      <td>Red</td>\n",
       "    </tr>\n",
       "    <tr>\n",
       "      <th>2</th>\n",
       "      <td>Varietal</td>\n",
       "      <td>Red</td>\n",
       "    </tr>\n",
       "    <tr>\n",
       "      <th>3</th>\n",
       "      <td>Assemblage</td>\n",
       "      <td>Red</td>\n",
       "    </tr>\n",
       "    <tr>\n",
       "      <th>4</th>\n",
       "      <td>Varietal</td>\n",
       "      <td>Sparkling</td>\n",
       "    </tr>\n",
       "    <tr>\n",
       "      <th>5</th>\n",
       "      <td>Varietal</td>\n",
       "      <td>Red</td>\n",
       "    </tr>\n",
       "    <tr>\n",
       "      <th>6</th>\n",
       "      <td>Assemblage</td>\n",
       "      <td>Red</td>\n",
       "    </tr>\n",
       "    <tr>\n",
       "      <th>7</th>\n",
       "      <td>Assemblage</td>\n",
       "      <td>White</td>\n",
       "    </tr>\n",
       "    <tr>\n",
       "      <th>8</th>\n",
       "      <td>Assemblage</td>\n",
       "      <td>Dessert</td>\n",
       "    </tr>\n",
       "    <tr>\n",
       "      <th>9</th>\n",
       "      <td>Assemblage</td>\n",
       "      <td>Dessert</td>\n",
       "    </tr>\n",
       "  </tbody>\n",
       "</table>\n",
       "</div>"
      ],
      "text/plain": [
       "<IPython.core.display.HTML object>"
      ]
     },
     "metadata": {},
     "output_type": "display_data"
    }
   ],
   "source": [
    "\n",
    "#get the function to only read a cell until a / to apply to column\n",
    "def get_first_split(input_string, split_by='/'):\n",
    "    try:\n",
    "        input_string_stripped = input_string.strip()\n",
    "        split_by_index = input_string_stripped.find(split_by)\n",
    "        if split_by_index == -1:\n",
    "            return input_string_stripped\n",
    "        else:\n",
    "            substring = input_string_stripped[:split_by_index].strip()\n",
    "            return substring\n",
    "    except AttributeError:\n",
    "        return ''\n",
    "\n",
    "\n",
    "\n",
    "show= wineOutName[[\"Elaborate\",\"Type\"]].head(10).to_html()\n",
    "\n",
    "#drop to complex attribute to simplify the data \n",
    "wineOutName[\"Elaborate\"] = wineOutName[\"Elaborate\"].apply(get_first_split)\n",
    "wineOutName[\"Type\"] = wineOutName[\"Type\"].apply(get_first_split)\n",
    "\n",
    "#Presentation purposes only\n",
    "HTML( \"<div style=\\\"width: 100%\\\";>\\n<div style=\\\"width: 500px; float: left;\\\">\\n\"+show+\"\\n</div>\" +\"<div>\\n\"+wineOutName[[\"Elaborate\",\"Type\"]].head(10).to_html()+\"\\n</div>\" )\n",
    "\n"
   ]
  },
  {
   "cell_type": "markdown",
   "metadata": {},
   "source": [
    "### Ordinal Textual Variable :"
   ]
  },
  {
   "cell_type": "markdown",
   "metadata": {},
   "source": [
    "In the dataset we have different columns which have **ordinal values**.  \n",
    "This means they have values that **can be classified** in different groups, and that these groups are **rankable**. Since for nom they are **textual** we will change it to **number** so that the comupter can see this ranking.   \n",
    "   \n",
    "Ex: `High, Medium, Low` => `1, 0, -1`"
   ]
  },
  {
   "cell_type": "code",
   "execution_count": null,
   "metadata": {},
   "outputs": [
    {
     "data": {
      "text/html": [
       "<div style=\"width: 100%\";>\n",
       "<div style=\"width: 300px; float: left;\">\n",
       "<table border=\"1\" class=\"dataframe\">\n",
       "  <thead>\n",
       "    <tr style=\"text-align: right;\">\n",
       "      <th></th>\n",
       "      <th>Body</th>\n",
       "      <th>Acidity</th>\n",
       "    </tr>\n",
       "  </thead>\n",
       "  <tbody>\n",
       "    <tr>\n",
       "      <th>0</th>\n",
       "      <td>Medium-bodied</td>\n",
       "      <td>High</td>\n",
       "    </tr>\n",
       "    <tr>\n",
       "      <th>1</th>\n",
       "      <td>Medium-bodied</td>\n",
       "      <td>Medium</td>\n",
       "    </tr>\n",
       "    <tr>\n",
       "      <th>2</th>\n",
       "      <td>Full-bodied</td>\n",
       "      <td>High</td>\n",
       "    </tr>\n",
       "    <tr>\n",
       "      <th>3</th>\n",
       "      <td>Full-bodied</td>\n",
       "      <td>Medium</td>\n",
       "    </tr>\n",
       "    <tr>\n",
       "      <th>4</th>\n",
       "      <td>Medium-bodied</td>\n",
       "      <td>High</td>\n",
       "    </tr>\n",
       "    <tr>\n",
       "      <th>5</th>\n",
       "      <td>Full-bodied</td>\n",
       "      <td>High</td>\n",
       "    </tr>\n",
       "    <tr>\n",
       "      <th>6</th>\n",
       "      <td>Full-bodied</td>\n",
       "      <td>High</td>\n",
       "    </tr>\n",
       "    <tr>\n",
       "      <th>7</th>\n",
       "      <td>Very light-bodied</td>\n",
       "      <td>High</td>\n",
       "    </tr>\n",
       "    <tr>\n",
       "      <th>8</th>\n",
       "      <td>Very full-bodied</td>\n",
       "      <td>High</td>\n",
       "    </tr>\n",
       "    <tr>\n",
       "      <th>9</th>\n",
       "      <td>Very full-bodied</td>\n",
       "      <td>High</td>\n",
       "    </tr>\n",
       "  </tbody>\n",
       "</table>\n",
       "</div><div>\n",
       "<table border=\"1\" class=\"dataframe\">\n",
       "  <thead>\n",
       "    <tr style=\"text-align: right;\">\n",
       "      <th></th>\n",
       "      <th>Body</th>\n",
       "      <th>Acidity</th>\n",
       "    </tr>\n",
       "  </thead>\n",
       "  <tbody>\n",
       "    <tr>\n",
       "      <th>0</th>\n",
       "      <td>0</td>\n",
       "      <td>1</td>\n",
       "    </tr>\n",
       "    <tr>\n",
       "      <th>1</th>\n",
       "      <td>0</td>\n",
       "      <td>0</td>\n",
       "    </tr>\n",
       "    <tr>\n",
       "      <th>2</th>\n",
       "      <td>1</td>\n",
       "      <td>1</td>\n",
       "    </tr>\n",
       "    <tr>\n",
       "      <th>3</th>\n",
       "      <td>1</td>\n",
       "      <td>0</td>\n",
       "    </tr>\n",
       "    <tr>\n",
       "      <th>4</th>\n",
       "      <td>0</td>\n",
       "      <td>1</td>\n",
       "    </tr>\n",
       "    <tr>\n",
       "      <th>5</th>\n",
       "      <td>1</td>\n",
       "      <td>1</td>\n",
       "    </tr>\n",
       "    <tr>\n",
       "      <th>6</th>\n",
       "      <td>1</td>\n",
       "      <td>1</td>\n",
       "    </tr>\n",
       "    <tr>\n",
       "      <th>7</th>\n",
       "      <td>-2</td>\n",
       "      <td>1</td>\n",
       "    </tr>\n",
       "    <tr>\n",
       "      <th>8</th>\n",
       "      <td>2</td>\n",
       "      <td>1</td>\n",
       "    </tr>\n",
       "    <tr>\n",
       "      <th>9</th>\n",
       "      <td>2</td>\n",
       "      <td>1</td>\n",
       "    </tr>\n",
       "  </tbody>\n",
       "</table>\n",
       "</div>"
      ],
      "text/plain": [
       "<IPython.core.display.HTML object>"
      ]
     },
     "metadata": {},
     "output_type": "display_data"
    }
   ],
   "source": [
    "show = wineOutName[[\"Body\",\"Acidity\"]].head(10).to_html()\n",
    "# replace another categorical values column by ordinal value for Body\n",
    "wineOutName[\"Body\"] = wineOutName[\"Body\"].replace(\"Very full-bodied\",2)\n",
    "wineOutName[\"Body\"] = wineOutName[\"Body\"].replace(\"Full-bodied\",1)\n",
    "wineOutName[\"Body\"] = wineOutName[\"Body\"].replace(\"Medium-bodied\",0)\n",
    "wineOutName[\"Body\"] = wineOutName[\"Body\"].replace(\"Light-bodied\",-1)\n",
    "wineOutName[\"Body\"] = wineOutName[\"Body\"].replace(\"Very light-bodied\",-2)\n",
    "\n",
    "# Same with Acidity\n",
    "wineOutName[\"Acidity\"] = wineOutName[\"Acidity\"].replace(\"High\",1)\n",
    "wineOutName[\"Acidity\"] = wineOutName[\"Acidity\"].replace(\"Medium\",0)\n",
    "wineOutName[\"Acidity\"] = wineOutName[\"Acidity\"].replace(\"Low\",-1)\n",
    "\n",
    "#Presentation purposes only\n",
    "HTML( \"<div style=\\\"width: 100%\\\";>\\n<div style=\\\"width: 300px; float: left;\\\">\\n\"+show+\"\\n</div>\" +\"<div>\\n\"+wineOutName[[\"Body\",\"Acidity\"]].head(10).to_html()+\"\\n</div>\" )\n"
   ]
  },
  {
   "cell_type": "markdown",
   "metadata": {},
   "source": [
    "### Categorical Textual Variable :"
   ]
  },
  {
   "cell_type": "markdown",
   "metadata": {},
   "source": [
    "In the dataset we have different columns which have **categorical values**.  \n",
    "This means they have values that **can be classified** in different groups, and that these groups are **not rankable**. On top of that these variables are **textual** so we need to modify this too.   \n",
    "   \n",
    "We can't assign number to each variable because it will **bring a ranking** that does not exist in the data, so we do a **one-hot encoding**.  \n"
   ]
  },
  {
   "cell_type": "markdown",
   "metadata": {},
   "source": [
    "A **One Hot Encoding** consist of rearenging the data values into columns and assigning a **1 or a 0** to this new columns based on the presence or not of the values in the original data.   \n",
    "For exemple, in One Hot Encoding, the categorical parameters will prepare separate columns for both Male and Female labels. So, wherever there is a Male, the value will be 1 in the Male column and 0 in the Female column\n",
    "   \n",
    "**Ex**:\n",
    "| Name    | Sex |\n",
    "| -------- | ------- |\n",
    "| Valentin  | Male   |   \n",
    "| Marylou | Female     |  \n",
    "\n",
    "&ensp;&ensp;&ensp;&ensp;&ensp;&ensp;&ensp;&ensp;&ensp;&#x2193;   \n",
    "\n",
    "| Name    | Male | Female |\n",
    "| -------- | ------- | ------- |\n",
    "| Valentin  | 1   | 0 |\n",
    "| Marylou | 0 | 1 |"
   ]
  },
  {
   "cell_type": "code",
   "execution_count": null,
   "metadata": {},
   "outputs": [
    {
     "data": {
      "text/html": [
       "<div style=\"width: 100%\";>\n",
       "<div style=\"width: 300px; float: left;\">\n",
       "<table border=\"1\" class=\"dataframe\">\n",
       "  <thead>\n",
       "    <tr style=\"text-align: right;\">\n",
       "      <th></th>\n",
       "      <th>Type</th>\n",
       "    </tr>\n",
       "  </thead>\n",
       "  <tbody>\n",
       "    <tr>\n",
       "      <th>0</th>\n",
       "      <td>Sparkling</td>\n",
       "    </tr>\n",
       "    <tr>\n",
       "      <th>1</th>\n",
       "      <td>Red</td>\n",
       "    </tr>\n",
       "    <tr>\n",
       "      <th>2</th>\n",
       "      <td>Red</td>\n",
       "    </tr>\n",
       "    <tr>\n",
       "      <th>3</th>\n",
       "      <td>Red</td>\n",
       "    </tr>\n",
       "    <tr>\n",
       "      <th>4</th>\n",
       "      <td>Sparkling</td>\n",
       "    </tr>\n",
       "    <tr>\n",
       "      <th>5</th>\n",
       "      <td>Red</td>\n",
       "    </tr>\n",
       "    <tr>\n",
       "      <th>6</th>\n",
       "      <td>Red</td>\n",
       "    </tr>\n",
       "    <tr>\n",
       "      <th>7</th>\n",
       "      <td>White</td>\n",
       "    </tr>\n",
       "    <tr>\n",
       "      <th>8</th>\n",
       "      <td>Dessert</td>\n",
       "    </tr>\n",
       "    <tr>\n",
       "      <th>9</th>\n",
       "      <td>Dessert</td>\n",
       "    </tr>\n",
       "  </tbody>\n",
       "</table>\n",
       "</div><div>\n",
       "<table border=\"1\" class=\"dataframe\">\n",
       "  <thead>\n",
       "    <tr style=\"text-align: right;\">\n",
       "      <th></th>\n",
       "      <th>Dessert</th>\n",
       "      <th>Red</th>\n",
       "      <th>Rosé</th>\n",
       "      <th>Sparkling</th>\n",
       "      <th>White</th>\n",
       "    </tr>\n",
       "  </thead>\n",
       "  <tbody>\n",
       "    <tr>\n",
       "      <th>0</th>\n",
       "      <td>0.0</td>\n",
       "      <td>0.0</td>\n",
       "      <td>0.0</td>\n",
       "      <td>1.0</td>\n",
       "      <td>0.0</td>\n",
       "    </tr>\n",
       "    <tr>\n",
       "      <th>1</th>\n",
       "      <td>0.0</td>\n",
       "      <td>1.0</td>\n",
       "      <td>0.0</td>\n",
       "      <td>0.0</td>\n",
       "      <td>0.0</td>\n",
       "    </tr>\n",
       "    <tr>\n",
       "      <th>2</th>\n",
       "      <td>0.0</td>\n",
       "      <td>1.0</td>\n",
       "      <td>0.0</td>\n",
       "      <td>0.0</td>\n",
       "      <td>0.0</td>\n",
       "    </tr>\n",
       "    <tr>\n",
       "      <th>3</th>\n",
       "      <td>0.0</td>\n",
       "      <td>1.0</td>\n",
       "      <td>0.0</td>\n",
       "      <td>0.0</td>\n",
       "      <td>0.0</td>\n",
       "    </tr>\n",
       "    <tr>\n",
       "      <th>4</th>\n",
       "      <td>0.0</td>\n",
       "      <td>0.0</td>\n",
       "      <td>0.0</td>\n",
       "      <td>1.0</td>\n",
       "      <td>0.0</td>\n",
       "    </tr>\n",
       "    <tr>\n",
       "      <th>5</th>\n",
       "      <td>0.0</td>\n",
       "      <td>1.0</td>\n",
       "      <td>0.0</td>\n",
       "      <td>0.0</td>\n",
       "      <td>0.0</td>\n",
       "    </tr>\n",
       "    <tr>\n",
       "      <th>6</th>\n",
       "      <td>0.0</td>\n",
       "      <td>1.0</td>\n",
       "      <td>0.0</td>\n",
       "      <td>0.0</td>\n",
       "      <td>0.0</td>\n",
       "    </tr>\n",
       "    <tr>\n",
       "      <th>7</th>\n",
       "      <td>0.0</td>\n",
       "      <td>0.0</td>\n",
       "      <td>0.0</td>\n",
       "      <td>0.0</td>\n",
       "      <td>1.0</td>\n",
       "    </tr>\n",
       "    <tr>\n",
       "      <th>8</th>\n",
       "      <td>1.0</td>\n",
       "      <td>0.0</td>\n",
       "      <td>0.0</td>\n",
       "      <td>0.0</td>\n",
       "      <td>0.0</td>\n",
       "    </tr>\n",
       "    <tr>\n",
       "      <th>9</th>\n",
       "      <td>1.0</td>\n",
       "      <td>0.0</td>\n",
       "      <td>0.0</td>\n",
       "      <td>0.0</td>\n",
       "      <td>0.0</td>\n",
       "    </tr>\n",
       "  </tbody>\n",
       "</table>\n",
       "</div>"
      ],
      "text/plain": [
       "<IPython.core.display.HTML object>"
      ]
     },
     "metadata": {},
     "output_type": "display_data"
    }
   ],
   "source": [
    "show = wineOutName[[\"Type\"]].head(10).to_html()\n",
    "#get rid of some categorical columns variable by one hot encoding (here Type)\n",
    "typeWine= pd.get_dummies(wineOutName[\"Type\"], dtype=float)\n",
    "wineOutName = wineOutName.merge(typeWine,left_on=wineOutName.index,right_on=typeWine.index).drop(columns=[\"key_0\",\"Type\"])\n",
    "\n",
    "#get rid of some categorical columns variable by one hot encoding (here Elaborate)\n",
    "elaborateWine= pd.get_dummies(wineOutName[\"Elaborate\"], dtype=float)\n",
    "wineOutName = wineOutName.merge(elaborateWine,left_on=wineOutName.index,right_on=elaborateWine.index).drop(columns=[\"key_0\",\"Elaborate\"])\n",
    "\n",
    "# replace another categorical values column by one hot encoding Grapes\n",
    "wineOutName['Grapes'] = wineOutName['Grapes'].apply(eval)\n",
    "listListGrape = wineOutName['Grapes'].to_list()\n",
    "listGrape = [grape for listGrape  in listListGrape for grape in listGrape]\n",
    "setGrape= set(listGrape)\n",
    "listGrape = list(setGrape)\n",
    "\n",
    "# replace another categorical values column by one hot encoding Harmonize\n",
    "wineOutName['Harmonize'] = wineOutName['Harmonize'].apply(eval)\n",
    "listListHarmonize = wineOutName['Harmonize'].to_list()\n",
    "listHarmonize = [harmonize for listHarmonize  in listListHarmonize for harmonize in listHarmonize]\n",
    "setHarmonize= set(listHarmonize)\n",
    "listHarmonize = list(setHarmonize)\n",
    "\n",
    "# replace another categorical values column by one hot encoding RegionName\n",
    "listRegionName = wineOutName['RegionName'].to_list()\n",
    "setRegionName= set(listRegionName)\n",
    "listRegionName = list(setRegionName)\n",
    "\n",
    "# replace another categorical values column by one hot encoding Country\n",
    "listCountry = wineOutName['Country'].to_list()\n",
    "setCountry= set(listCountry)\n",
    "listCountry = list(setCountry)\n",
    "\n",
    "#Presentation purposes only\n",
    "HTML( \"<div style=\\\"width: 100%\\\";>\\n<div style=\\\"width: 300px; float: left;\\\">\\n\"+show+\"\\n</div>\" +\"<div>\\n\"+typeWine.head(10).to_html()+\"\\n</div>\" )"
   ]
  },
  {
   "cell_type": "markdown",
   "metadata": {},
   "source": [
    "*We can see that One Hot Encoding multiply the dimension by a lot so we will need to do something about that*"
   ]
  },
  {
   "cell_type": "markdown",
   "metadata": {},
   "source": [
    "&ensp;"
   ]
  },
  {
   "cell_type": "markdown",
   "metadata": {},
   "source": [
    "### Finishing the preprocessing :"
   ]
  },
  {
   "cell_type": "markdown",
   "metadata": {},
   "source": [
    "This last part is used to add the One hot encoded Variable to a new dataframe and to rename the column with more explicit one, it's a long part that takes more than 5 minutes to compute.  \n",
    "Once the new dataframe is done we export it to a csv file so we dont have to do the preprocessing anymore."
   ]
  },
  {
   "cell_type": "code",
   "execution_count": null,
   "metadata": {},
   "outputs": [],
   "source": [
    "listColumns = listCountry+listRegionName+listHarmonize+listGrape\n",
    "\n",
    "wineOutName['Grapes'][0][0]\n",
    "listListGrape = wineOutName['Grapes'].to_list()\n",
    "listListGrape\n",
    "\n",
    "def get_Row2List(i):\n",
    "    listListHarmonizeGrape = wineOutName[['Grapes', 'Harmonize']].iloc[i].to_list()\n",
    "    listHarmonizeGrape = [x for listHarmonizeGrape  in listListHarmonizeGrape for x in listHarmonizeGrape]\n",
    "    listRegionNameCountry = wineOutName[['Country','RegionName']].iloc[i].to_list()\n",
    "    return listHarmonizeGrape+listRegionNameCountry\n",
    "\n",
    "emptyDf = pd.DataFrame(np.ones((len(wineOutName),len(listColumns))),columns=listColumns)\n",
    "for i in range(len(emptyDf)):\n",
    "    list2Zeroes = [x for x in emptyDf.columns if x not in get_Row2List(i)]\n",
    "    emptyDf.loc[i,list(set(list2Zeroes))]=0\n",
    "listColumns = [\"Country_\"+x for x in listCountry]+[\"RegionName_\"+x for x in listRegionName]+[\"Harmonize_\"+x for x in listHarmonize]+[\"Grape_\"+x for x in listGrape]\n",
    "emptyDf.columns=listColumns\n",
    "wineOutName = pd.concat([wineOutName,emptyDf],axis=1).drop(columns=['Grapes', 'Harmonize', 'Country','RegionName'])\n",
    "wineOutName.to_csv(\"datasets/XWines_Vecto_1K.csv\",index=False)\n"
   ]
  },
  {
   "cell_type": "markdown",
   "metadata": {},
   "source": [
    "*Since the above code is long to execute here is the final data printed from the previously exported dataframe*"
   ]
  },
  {
   "cell_type": "code",
   "execution_count": 5,
   "metadata": {},
   "outputs": [
    {
     "data": {
      "text/html": [
       "<div>\n",
       "<style scoped>\n",
       "    .dataframe tbody tr th:only-of-type {\n",
       "        vertical-align: middle;\n",
       "    }\n",
       "\n",
       "    .dataframe tbody tr th {\n",
       "        vertical-align: top;\n",
       "    }\n",
       "\n",
       "    .dataframe thead th {\n",
       "        text-align: right;\n",
       "    }\n",
       "</style>\n",
       "<table border=\"1\" class=\"dataframe\">\n",
       "  <thead>\n",
       "    <tr style=\"text-align: right;\">\n",
       "      <th></th>\n",
       "      <th>WineID</th>\n",
       "      <th>ABV</th>\n",
       "      <th>Body</th>\n",
       "      <th>Acidity</th>\n",
       "      <th>Dessert</th>\n",
       "      <th>Red</th>\n",
       "      <th>Rosé</th>\n",
       "      <th>Sparkling</th>\n",
       "      <th>White</th>\n",
       "      <th>Assemblage</th>\n",
       "      <th>...</th>\n",
       "      <th>Grape_Molinara</th>\n",
       "      <th>Grape_Muscat/Moscato Bianco</th>\n",
       "      <th>Grape_Bacchus</th>\n",
       "      <th>Grape_Zweigelt</th>\n",
       "      <th>Grape_Blaufränkisch</th>\n",
       "      <th>Grape_Lemberger</th>\n",
       "      <th>Grape_Ugni Blanc</th>\n",
       "      <th>Grape_Carignan/Cariñena</th>\n",
       "      <th>Grape_Susumaniello</th>\n",
       "      <th>Grape_Saperavi</th>\n",
       "    </tr>\n",
       "  </thead>\n",
       "  <tbody>\n",
       "    <tr>\n",
       "      <th>0</th>\n",
       "      <td>100001</td>\n",
       "      <td>7.5</td>\n",
       "      <td>0</td>\n",
       "      <td>1</td>\n",
       "      <td>0.0</td>\n",
       "      <td>0.0</td>\n",
       "      <td>0.0</td>\n",
       "      <td>1.0</td>\n",
       "      <td>0.0</td>\n",
       "      <td>0.0</td>\n",
       "      <td>...</td>\n",
       "      <td>0.0</td>\n",
       "      <td>0.0</td>\n",
       "      <td>0.0</td>\n",
       "      <td>0.0</td>\n",
       "      <td>0.0</td>\n",
       "      <td>0.0</td>\n",
       "      <td>0.0</td>\n",
       "      <td>0.0</td>\n",
       "      <td>0.0</td>\n",
       "      <td>0.0</td>\n",
       "    </tr>\n",
       "    <tr>\n",
       "      <th>1</th>\n",
       "      <td>100002</td>\n",
       "      <td>12.0</td>\n",
       "      <td>0</td>\n",
       "      <td>0</td>\n",
       "      <td>0.0</td>\n",
       "      <td>1.0</td>\n",
       "      <td>0.0</td>\n",
       "      <td>0.0</td>\n",
       "      <td>0.0</td>\n",
       "      <td>0.0</td>\n",
       "      <td>...</td>\n",
       "      <td>0.0</td>\n",
       "      <td>0.0</td>\n",
       "      <td>0.0</td>\n",
       "      <td>0.0</td>\n",
       "      <td>0.0</td>\n",
       "      <td>0.0</td>\n",
       "      <td>0.0</td>\n",
       "      <td>0.0</td>\n",
       "      <td>0.0</td>\n",
       "      <td>0.0</td>\n",
       "    </tr>\n",
       "    <tr>\n",
       "      <th>2</th>\n",
       "      <td>100003</td>\n",
       "      <td>12.0</td>\n",
       "      <td>1</td>\n",
       "      <td>1</td>\n",
       "      <td>0.0</td>\n",
       "      <td>1.0</td>\n",
       "      <td>0.0</td>\n",
       "      <td>0.0</td>\n",
       "      <td>0.0</td>\n",
       "      <td>0.0</td>\n",
       "      <td>...</td>\n",
       "      <td>0.0</td>\n",
       "      <td>0.0</td>\n",
       "      <td>0.0</td>\n",
       "      <td>0.0</td>\n",
       "      <td>0.0</td>\n",
       "      <td>0.0</td>\n",
       "      <td>0.0</td>\n",
       "      <td>0.0</td>\n",
       "      <td>0.0</td>\n",
       "      <td>0.0</td>\n",
       "    </tr>\n",
       "    <tr>\n",
       "      <th>3</th>\n",
       "      <td>100005</td>\n",
       "      <td>11.0</td>\n",
       "      <td>1</td>\n",
       "      <td>0</td>\n",
       "      <td>0.0</td>\n",
       "      <td>1.0</td>\n",
       "      <td>0.0</td>\n",
       "      <td>0.0</td>\n",
       "      <td>0.0</td>\n",
       "      <td>1.0</td>\n",
       "      <td>...</td>\n",
       "      <td>0.0</td>\n",
       "      <td>0.0</td>\n",
       "      <td>0.0</td>\n",
       "      <td>0.0</td>\n",
       "      <td>0.0</td>\n",
       "      <td>0.0</td>\n",
       "      <td>0.0</td>\n",
       "      <td>0.0</td>\n",
       "      <td>0.0</td>\n",
       "      <td>0.0</td>\n",
       "    </tr>\n",
       "    <tr>\n",
       "      <th>4</th>\n",
       "      <td>100007</td>\n",
       "      <td>7.5</td>\n",
       "      <td>0</td>\n",
       "      <td>1</td>\n",
       "      <td>0.0</td>\n",
       "      <td>0.0</td>\n",
       "      <td>0.0</td>\n",
       "      <td>1.0</td>\n",
       "      <td>0.0</td>\n",
       "      <td>0.0</td>\n",
       "      <td>...</td>\n",
       "      <td>0.0</td>\n",
       "      <td>1.0</td>\n",
       "      <td>0.0</td>\n",
       "      <td>0.0</td>\n",
       "      <td>0.0</td>\n",
       "      <td>0.0</td>\n",
       "      <td>0.0</td>\n",
       "      <td>0.0</td>\n",
       "      <td>0.0</td>\n",
       "      <td>0.0</td>\n",
       "    </tr>\n",
       "    <tr>\n",
       "      <th>...</th>\n",
       "      <td>...</td>\n",
       "      <td>...</td>\n",
       "      <td>...</td>\n",
       "      <td>...</td>\n",
       "      <td>...</td>\n",
       "      <td>...</td>\n",
       "      <td>...</td>\n",
       "      <td>...</td>\n",
       "      <td>...</td>\n",
       "      <td>...</td>\n",
       "      <td>...</td>\n",
       "      <td>...</td>\n",
       "      <td>...</td>\n",
       "      <td>...</td>\n",
       "      <td>...</td>\n",
       "      <td>...</td>\n",
       "      <td>...</td>\n",
       "      <td>...</td>\n",
       "      <td>...</td>\n",
       "      <td>...</td>\n",
       "      <td>...</td>\n",
       "    </tr>\n",
       "    <tr>\n",
       "      <th>1002</th>\n",
       "      <td>199408</td>\n",
       "      <td>13.5</td>\n",
       "      <td>0</td>\n",
       "      <td>1</td>\n",
       "      <td>0.0</td>\n",
       "      <td>0.0</td>\n",
       "      <td>0.0</td>\n",
       "      <td>0.0</td>\n",
       "      <td>1.0</td>\n",
       "      <td>0.0</td>\n",
       "      <td>...</td>\n",
       "      <td>0.0</td>\n",
       "      <td>0.0</td>\n",
       "      <td>0.0</td>\n",
       "      <td>0.0</td>\n",
       "      <td>0.0</td>\n",
       "      <td>0.0</td>\n",
       "      <td>0.0</td>\n",
       "      <td>0.0</td>\n",
       "      <td>0.0</td>\n",
       "      <td>0.0</td>\n",
       "    </tr>\n",
       "    <tr>\n",
       "      <th>1003</th>\n",
       "      <td>199481</td>\n",
       "      <td>14.0</td>\n",
       "      <td>0</td>\n",
       "      <td>1</td>\n",
       "      <td>0.0</td>\n",
       "      <td>1.0</td>\n",
       "      <td>0.0</td>\n",
       "      <td>0.0</td>\n",
       "      <td>0.0</td>\n",
       "      <td>0.0</td>\n",
       "      <td>...</td>\n",
       "      <td>0.0</td>\n",
       "      <td>0.0</td>\n",
       "      <td>0.0</td>\n",
       "      <td>0.0</td>\n",
       "      <td>0.0</td>\n",
       "      <td>0.0</td>\n",
       "      <td>0.0</td>\n",
       "      <td>0.0</td>\n",
       "      <td>0.0</td>\n",
       "      <td>0.0</td>\n",
       "    </tr>\n",
       "    <tr>\n",
       "      <th>1004</th>\n",
       "      <td>199533</td>\n",
       "      <td>12.2</td>\n",
       "      <td>1</td>\n",
       "      <td>1</td>\n",
       "      <td>0.0</td>\n",
       "      <td>0.0</td>\n",
       "      <td>0.0</td>\n",
       "      <td>0.0</td>\n",
       "      <td>1.0</td>\n",
       "      <td>0.0</td>\n",
       "      <td>...</td>\n",
       "      <td>0.0</td>\n",
       "      <td>0.0</td>\n",
       "      <td>0.0</td>\n",
       "      <td>0.0</td>\n",
       "      <td>0.0</td>\n",
       "      <td>0.0</td>\n",
       "      <td>0.0</td>\n",
       "      <td>0.0</td>\n",
       "      <td>0.0</td>\n",
       "      <td>0.0</td>\n",
       "    </tr>\n",
       "    <tr>\n",
       "      <th>1005</th>\n",
       "      <td>199885</td>\n",
       "      <td>12.2</td>\n",
       "      <td>0</td>\n",
       "      <td>1</td>\n",
       "      <td>0.0</td>\n",
       "      <td>0.0</td>\n",
       "      <td>0.0</td>\n",
       "      <td>0.0</td>\n",
       "      <td>1.0</td>\n",
       "      <td>0.0</td>\n",
       "      <td>...</td>\n",
       "      <td>0.0</td>\n",
       "      <td>0.0</td>\n",
       "      <td>0.0</td>\n",
       "      <td>0.0</td>\n",
       "      <td>0.0</td>\n",
       "      <td>0.0</td>\n",
       "      <td>0.0</td>\n",
       "      <td>0.0</td>\n",
       "      <td>0.0</td>\n",
       "      <td>0.0</td>\n",
       "    </tr>\n",
       "    <tr>\n",
       "      <th>1006</th>\n",
       "      <td>200139</td>\n",
       "      <td>13.0</td>\n",
       "      <td>1</td>\n",
       "      <td>0</td>\n",
       "      <td>0.0</td>\n",
       "      <td>0.0</td>\n",
       "      <td>1.0</td>\n",
       "      <td>0.0</td>\n",
       "      <td>0.0</td>\n",
       "      <td>0.0</td>\n",
       "      <td>...</td>\n",
       "      <td>0.0</td>\n",
       "      <td>0.0</td>\n",
       "      <td>0.0</td>\n",
       "      <td>0.0</td>\n",
       "      <td>0.0</td>\n",
       "      <td>0.0</td>\n",
       "      <td>0.0</td>\n",
       "      <td>0.0</td>\n",
       "      <td>0.0</td>\n",
       "      <td>0.0</td>\n",
       "    </tr>\n",
       "  </tbody>\n",
       "</table>\n",
       "<p>1007 rows × 600 columns</p>\n",
       "</div>"
      ],
      "text/plain": [
       "      WineID   ABV  Body  Acidity  Dessert  Red  Rosé  Sparkling  White  \\\n",
       "0     100001   7.5     0        1      0.0  0.0   0.0        1.0    0.0   \n",
       "1     100002  12.0     0        0      0.0  1.0   0.0        0.0    0.0   \n",
       "2     100003  12.0     1        1      0.0  1.0   0.0        0.0    0.0   \n",
       "3     100005  11.0     1        0      0.0  1.0   0.0        0.0    0.0   \n",
       "4     100007   7.5     0        1      0.0  0.0   0.0        1.0    0.0   \n",
       "...      ...   ...   ...      ...      ...  ...   ...        ...    ...   \n",
       "1002  199408  13.5     0        1      0.0  0.0   0.0        0.0    1.0   \n",
       "1003  199481  14.0     0        1      0.0  1.0   0.0        0.0    0.0   \n",
       "1004  199533  12.2     1        1      0.0  0.0   0.0        0.0    1.0   \n",
       "1005  199885  12.2     0        1      0.0  0.0   0.0        0.0    1.0   \n",
       "1006  200139  13.0     1        0      0.0  0.0   1.0        0.0    0.0   \n",
       "\n",
       "      Assemblage  ...  Grape_Molinara  Grape_Muscat/Moscato Bianco  \\\n",
       "0            0.0  ...             0.0                          0.0   \n",
       "1            0.0  ...             0.0                          0.0   \n",
       "2            0.0  ...             0.0                          0.0   \n",
       "3            1.0  ...             0.0                          0.0   \n",
       "4            0.0  ...             0.0                          1.0   \n",
       "...          ...  ...             ...                          ...   \n",
       "1002         0.0  ...             0.0                          0.0   \n",
       "1003         0.0  ...             0.0                          0.0   \n",
       "1004         0.0  ...             0.0                          0.0   \n",
       "1005         0.0  ...             0.0                          0.0   \n",
       "1006         0.0  ...             0.0                          0.0   \n",
       "\n",
       "      Grape_Bacchus  Grape_Zweigelt  Grape_Blaufränkisch  Grape_Lemberger  \\\n",
       "0               0.0             0.0                  0.0              0.0   \n",
       "1               0.0             0.0                  0.0              0.0   \n",
       "2               0.0             0.0                  0.0              0.0   \n",
       "3               0.0             0.0                  0.0              0.0   \n",
       "4               0.0             0.0                  0.0              0.0   \n",
       "...             ...             ...                  ...              ...   \n",
       "1002            0.0             0.0                  0.0              0.0   \n",
       "1003            0.0             0.0                  0.0              0.0   \n",
       "1004            0.0             0.0                  0.0              0.0   \n",
       "1005            0.0             0.0                  0.0              0.0   \n",
       "1006            0.0             0.0                  0.0              0.0   \n",
       "\n",
       "      Grape_Ugni Blanc  Grape_Carignan/Cariñena  Grape_Susumaniello  \\\n",
       "0                  0.0                      0.0                 0.0   \n",
       "1                  0.0                      0.0                 0.0   \n",
       "2                  0.0                      0.0                 0.0   \n",
       "3                  0.0                      0.0                 0.0   \n",
       "4                  0.0                      0.0                 0.0   \n",
       "...                ...                      ...                 ...   \n",
       "1002               0.0                      0.0                 0.0   \n",
       "1003               0.0                      0.0                 0.0   \n",
       "1004               0.0                      0.0                 0.0   \n",
       "1005               0.0                      0.0                 0.0   \n",
       "1006               0.0                      0.0                 0.0   \n",
       "\n",
       "      Grape_Saperavi  \n",
       "0                0.0  \n",
       "1                0.0  \n",
       "2                0.0  \n",
       "3                0.0  \n",
       "4                0.0  \n",
       "...              ...  \n",
       "1002             0.0  \n",
       "1003             0.0  \n",
       "1004             0.0  \n",
       "1005             0.0  \n",
       "1006             0.0  \n",
       "\n",
       "[1007 rows x 600 columns]"
      ]
     },
     "metadata": {},
     "output_type": "display_data"
    },
    {
     "name": "stdout",
     "output_type": "stream",
     "text": [
      "Sparsity of the matrix before preprocessing: 0.0% \n",
      "Sparsity of the matrix after: 97.8%\n"
     ]
    }
   ],
   "source": [
    "wineDataset = pd.read_csv(\"datasets\\XWines_Vecto_1K.csv\")\n",
    "display(wineDataset)\n",
    "sparsity = 1.0 - ( np.count_nonzero(wineDataset) / float(wineDataset.size) )\n",
    "print(f\"Sparsity of the matrix before preprocessing: {sparsityBefore*100}% \\nSparsity of the matrix after: {round(sparsity*100,1)}%\")"
   ]
  },
  {
   "cell_type": "markdown",
   "metadata": {},
   "source": [
    "*We can see that the columns went from 10 to 600 and that the sparsity of the data went up a lot. We can also see that now the data are alle number so it will be easier to compute, for example the distances between two wines, to see wich are the most similar.*"
   ]
  },
  {
   "cell_type": "markdown",
   "metadata": {},
   "source": [
    "## PCA and KNN for content based recommendation algorithm :\n",
    "\n",
    "\n"
   ]
  },
  {
   "cell_type": "markdown",
   "metadata": {},
   "source": [
    "### Import the library :  \n",
    "- `pandas` for csv reading and treatment\n",
    "- `numpy` for matrix computation\n",
    "- `sklearn` for different algorithm such as PCA or KNN wich will be done without us having to code anything\n",
    "- `matplotlib` for plotting some of our results  \n",
    "- `sklearn` for different algorithm such as TruncatedSVD or cosine_similarity wich will be done without us having to code anything   \n"
   ]
  },
  {
   "cell_type": "code",
   "execution_count": 6,
   "metadata": {},
   "outputs": [],
   "source": [
    "import pandas as pd\n",
    "import numpy as np\n",
    "from sklearn.decomposition import PCA\n",
    "import matplotlib.pyplot as plt\n",
    "from sklearn.neighbors import NearestNeighbors\n",
    "\n",
    "import pandas as pd\n",
    "from sklearn.metrics.pairwise import cosine_similarity\n",
    "from sklearn.decomposition import TruncatedSVD\n",
    "import matplotlib.pyplot as plt\n",
    "\n",
    "import warnings\n",
    "warnings.filterwarnings('ignore')"
   ]
  },
  {
   "cell_type": "markdown",
   "metadata": {},
   "source": [
    "**We create a function wich will be usefull later on :**  \n",
    "The goal of `Cumulative_sum()` is to take a list as an input and add each component with the summ of the previous one.   \n",
    "**Ex :** `[1,2,3,4]` => `[1,3,6,10]`"
   ]
  },
  {
   "cell_type": "code",
   "execution_count": 7,
   "metadata": {},
   "outputs": [],
   "source": [
    "# Cumulative sum  \n",
    "def Cumulative_sum(lists):   \n",
    "    cum_list = []   \n",
    "    length = len(lists)   \n",
    "    cum_list = [sum(lists[0:x:1]) for x in range(0, length+1)]   \n",
    "    return cum_list[1:]  "
   ]
  },
  {
   "cell_type": "markdown",
   "metadata": {},
   "source": [
    "### Reading The Data and Preprocess it :\n",
    "We read the data of the csv and create a new dataset that will be used during the code.   \n",
    "To do that we remove the mean and divide by the variance from the ABV so that it doesnt have more importance than the other variable."
   ]
  },
  {
   "cell_type": "code",
   "execution_count": 8,
   "metadata": {},
   "outputs": [],
   "source": [
    "#read the data\n",
    "wineDataset = pd.read_csv(\"datasets\\XWines_Vecto_1K.csv\")\n",
    "#setup the data correclty for the training\n",
    "dataTrain = wineDataset.drop(columns=\"WineID\")\n",
    "#remove variance and meaning to 0\n",
    "dataTrain[\"ABV\"] = (wineDataset[\"ABV\"]- wineDataset[\"ABV\"].mean())/np.std(wineDataset[\"ABV\"], ddof=0)\n"
   ]
  },
  {
   "cell_type": "markdown",
   "metadata": {},
   "source": [
    "### Computing the PCA to reduce number of component :"
   ]
  },
  {
   "cell_type": "markdown",
   "metadata": {},
   "source": [
    "**Then we use the `PCA()` function fro sklearn.**   \n",
    "To find the number of component we want to have after the PCA we plot the variance explained with 100 component to see our optimum number of variable"
   ]
  },
  {
   "cell_type": "code",
   "execution_count": 9,
   "metadata": {},
   "outputs": [
    {
     "data": {
      "image/png": "[encoded data removed]",
      "text/plain": [
       "<Figure size 640x480 with 1 Axes>"
      ]
     },
     "metadata": {},
     "output_type": "display_data"
    }
   ],
   "source": [
    "#pca, plotting the variance explained to make a choice\n",
    "pca = PCA(n_components=100)\n",
    "pca.fit(dataTrain)\n",
    "perc_variance_explained = Cumulative_sum(pca.explained_variance_ratio_*100)\n",
    "n_of_component= [ x for x in range(100)]\n",
    "plt.plot(n_of_component,perc_variance_explained)\n",
    "plt.xlabel('n_of_component')\n",
    "plt.ylabel('perc_variance_explained')\n",
    "plt.title(\"variance explained per component\")\n",
    "plt.show()\n"
   ]
  },
  {
   "cell_type": "markdown",
   "metadata": {},
   "source": [
    "We choose **60 PC** out of **600 features** : **90% less features** for a **10% information loss**<br>\n",
    "We then merge our `WineID` with their corresponding PCA so we can use it more intuitively for the recommendation"
   ]
  },
  {
   "cell_type": "code",
   "execution_count": 10,
   "metadata": {},
   "outputs": [],
   "source": [
    "#choose 60 PC out of 600 features : 90% less features for a 10% information loss\n",
    "nb_comp = 60\n",
    "pca = PCA(n_components=nb_comp)#initialisation of the model\n",
    "pca_array = pca.fit_transform(dataTrain)#fitting of the model on our data\n",
    "\n",
    "colPCA=[\"PC\"+str(x) for x in range(nb_comp)]#creating col name for readability\n",
    "wineDatasetPCA = pd.DataFrame(pca.fit_transform(dataTrain),columns=colPCA)\n",
    "\n",
    "WineId=pd.DataFrame(wineDataset[\"WineID\"])\n",
    "wineDatasetPCA = WineId.merge(wineDatasetPCA,left_on=WineId.index,right_on=wineDatasetPCA.index).drop(columns=\"key_0\")\n",
    "\n"
   ]
  },
  {
   "cell_type": "markdown",
   "metadata": {},
   "source": [
    "### Finding the K-Nearest Neighbors of the points :"
   ]
  },
  {
   "cell_type": "markdown",
   "metadata": {},
   "source": [
    "First we fit the **KNN** model of sklearn to our data, with 6 nearest neighbors, we want only **5 recommendations** but the Wine itself will be one of the nearest neighbors, thats why we will remove it after that.  \n",
    "So we use the `NearestNeighbors()` function and initialise it so that it uses cosine distances and the number of recommendation we want"
   ]
  },
  {
   "cell_type": "code",
   "execution_count": 11,
   "metadata": {},
   "outputs": [],
   "source": [
    "testWineIndex=0\n",
    "\n",
    "neigh = NearestNeighbors(n_neighbors=6,metric=\"cosine\")\n",
    "neigh.fit(pca_array)\n",
    "dist, index = neigh.kneighbors([wineDatasetPCA.iloc[testWineIndex].drop(\"WineID\")], return_distance=True)\n",
    "index = index[0].tolist()\n",
    "dist = dist[0].tolist()\n",
    "if testWineIndex in index :\n",
    "    torm = index.index(testWineIndex)\n",
    "    del index[torm]\n",
    "    del dist[torm]\n",
    "else:\n",
    "    del index[-1]\n",
    "    del dist[-1]\n"
   ]
  },
  {
   "cell_type": "markdown",
   "metadata": {},
   "source": [
    "## SVD and Cosine similarity for content based recommendation algorithm :  "
   ]
  },
  {
   "cell_type": "markdown",
   "metadata": {},
   "source": [
    "### Preprocessing and reading the data :"
   ]
  },
  {
   "cell_type": "code",
   "execution_count": 12,
   "metadata": {},
   "outputs": [],
   "source": [
    "RatePerWine = pd.read_csv(\"datasets\\XWines_Vecto_1K.csv\").drop(columns=\"WineID\")\n",
    "WineData = pd.read_csv(\"datasets\\XWines_Slim_1K_wines.csv\")\n",
    "WineIndex = pd.Series(WineData.index,index=WineData[\"WineName\"])"
   ]
  },
  {
   "cell_type": "markdown",
   "metadata": {},
   "source": [
    "### Computing the SVD to reduce the number of component :   \n",
    "In input we pass the **number of component** we want to have after the truncation, we say the **number of iteration** we want to have before to have the final weight of those components, and the **random state** because we want this to be reproducable.  \n",
    "   \n",
    "     \n",
    "We do the same as the pca we **plot for 100 components** the **variance explained** and then we choose our number of component.   \n",
    "We will here choose **40 components** to have the same number of variance explained as the **PCA** so that the results can be compared.  \n",
    "   \n",
    "      \n",
    "Since there is less component the result should be a bit more precise.   "
   ]
  },
  {
   "cell_type": "code",
   "execution_count": 13,
   "metadata": {},
   "outputs": [
    {
     "data": {
      "image/png": "[encoded data removed]",
      "text/plain": [
       "<Figure size 640x480 with 1 Axes>"
      ]
     },
     "metadata": {},
     "output_type": "display_data"
    }
   ],
   "source": [
    "\n",
    "svd = TruncatedSVD(n_components=100, n_iter=5, random_state=42)#we do a svd with a lot of component to see how they influences the variance\n",
    "svd.fit(RatePerWine)\n",
    "\n",
    "perc_variance_explained = Cumulative_sum(svd.explained_variance_ratio_*100)\n",
    "n_of_component= [ x for x in range(100)]\n",
    "plt.plot(n_of_component,perc_variance_explained)\n",
    "plt.xlabel('n_of_component')\n",
    "plt.ylabel('perc_variance_explained')\n",
    "plt.title(\"variance explained per component\")\n",
    "plt.show()#we can see that we have 91% of variance explaine for 40 component and then it starts to slow down in reduction\n",
    "#we do a svd the number of component we decided\n",
    "svd = TruncatedSVD(n_components=40, n_iter=5, random_state=42)\n",
    "\n"
   ]
  },
  {
   "cell_type": "markdown",
   "metadata": {},
   "source": [
    "We aply the truncation to our matrix and then use it to compute the **cosine similarity** between all the vector. \n",
    "   \n",
    "Then we do a function that will give us the **recommendation** by finding the **closest distance to the wine** we input"
   ]
  },
  {
   "cell_type": "code",
   "execution_count": 14,
   "metadata": {},
   "outputs": [],
   "source": [
    "RatePerWine = svd.fit_transform(RatePerWine)\n",
    "cosine_sim = cosine_similarity(RatePerWine, RatePerWine)\n",
    "\n",
    "def get_recommendations(WineName, cosine_sim=cosine_sim,indices=WineIndex, num_recommend = 10):\n",
    "    try :\n",
    "        idx = indices[WineName].iloc[0]\n",
    "    except :\n",
    "        idx = indices[WineName]\n",
    "# Get the pairwsie similarity scores of all movies with that movie\n",
    "    sim_scores = list(enumerate(cosine_sim[idx]))\n",
    "# Sort the movies based on the similarity scores\n",
    "    sim_scores = sorted(sim_scores, key=lambda x: x[1], reverse=True)\n",
    "# Get the scores of the 10 most similar movies\n",
    "    top_similar = sim_scores[1:num_recommend+1]\n",
    "# Get the movie indices\n",
    "    movie_indices = [i[0] for i in top_similar]\n",
    "    \n",
    "# Return the top 10 most similar movies\n",
    "    return WineData['WineName'].iloc[movie_indices].index\n"
   ]
  },
  {
   "cell_type": "markdown",
   "metadata": {},
   "source": [
    "### Comparing the results of the two algorithms :"
   ]
  },
  {
   "cell_type": "markdown",
   "metadata": {},
   "source": [
    "We can compare the **different prediction** of the two algorithm to see if they have **similar results**, we will plot it for **1 to 10 predictions** to see how they go over number of predictions"
   ]
  },
  {
   "cell_type": "code",
   "execution_count": 15,
   "metadata": {},
   "outputs": [
    {
     "data": {
      "image/png": "[encoded data removed]",
      "text/plain": [
       "<Figure size 640x480 with 1 Axes>"
      ]
     },
     "metadata": {},
     "output_type": "display_data"
    }
   ],
   "source": [
    "allsimi=[]\n",
    "for n_reco in range(1,11):\n",
    "    neigh = NearestNeighbors(n_neighbors=n_reco+1,metric=\"cosine\")\n",
    "    neigh.fit(pca_array)\n",
    "    error=0\n",
    "    for idxWine in range(len(WineData['WineName'])):\n",
    "        indexSVD = get_recommendations(WineData['WineName'].iloc[idxWine], num_recommend = n_reco)\n",
    "        index = neigh.kneighbors([wineDatasetPCA.iloc[idxWine].drop(\"WineID\")], return_distance=False)\n",
    "        index = index[0].tolist()\n",
    "        if testWineIndex in index :\n",
    "            torm = index.index(testWineIndex)\n",
    "            del index[torm]\n",
    "        else:\n",
    "            del index[-1]\n",
    "        error+=len(set(indexSVD.to_list()+index))-n_reco\n",
    "    simiPerc=100-(error/(len(WineData['WineName'])*(n_reco*2)))*100\n",
    "    allsimi.append(simiPerc)\n",
    "\n",
    "n_of_reco=[x for x in range(1,11)]\n",
    "plt.plot(n_of_reco,allsimi)\n",
    "plt.xlabel('n_of_reco')\n",
    "plt.ylabel('similarity')\n",
    "plt.title(\"similarity per number of recommendation\")\n",
    "plt.show()"
   ]
  },
  {
   "cell_type": "markdown",
   "metadata": {},
   "source": [
    "As we can see the **more recommendation** we have the **more similar** the 2 algorithm give results.   \n",
    "\n",
    "It was to be expected since the error are **covered** by the **high number of recommendation**.   \n",
    "Since it's **not usefull** if we have **too much recomendation** and we dont know **wich algorithm is the best**, we think that a good compromise is two choose the **lowest number** to give **decent similarity**(~80%), wich is 5 for us.  \n",
    "  \n",
    "So with **5 recommendations** we have **~80% similarity** wich means the results are **based on a real patern**.  "
   ]
  },
  {
   "cell_type": "markdown",
   "metadata": {},
   "source": [
    "## Machine Learninig Embeddings approach"
   ]
  },
  {
   "cell_type": "markdown",
   "metadata": {},
   "source": [
    "The aim remains the same as before but we compute cosine similarity differently.We create a custom dataset class to generate **triplets (anchor, positive, and negative samples)** for training a neural network model. The model learns to project the combined features into an embedding space using fully connected layers. The training process involves **optimizing a triplet margin loss** to distinguish between similar and dissimilar wines. The embeddings are then extracted and used to compute cosine similarity between wines"
   ]
  },
  {
   "cell_type": "markdown",
   "metadata": {},
   "source": [
    "### Import the library:\n",
    "- `pandas` for CSV reading and data manipulation.\n",
    "- `numpy` for numerical computations and matrix operations.\n",
    "- `torch` for building and training neural networks.\n",
    "- `torch.utils.data.Dataset` and `torch.utils.data.DataLoader` for handling datasets and batching.\n",
    "- `torch.nn` for defining neural network layers.\n",
    "- `torch.nn.functional` for common functions used in neural networks.\n",
    "- `torch.optim.Adam` for the Adam optimization algorithm."
   ]
  },
  {
   "cell_type": "code",
   "execution_count": 21,
   "metadata": {},
   "outputs": [],
   "source": [
    "import pandas as pd\n",
    "import numpy as np\n",
    "import torch\n",
    "from torch.utils.data import Dataset, DataLoader\n",
    "import torch.nn as nn\n",
    "import torch.nn.functional as F\n",
    "from torch.optim import Adam"
   ]
  },
  {
   "cell_type": "markdown",
   "metadata": {},
   "source": [
    "## Load the dataset"
   ]
  },
  {
   "cell_type": "code",
   "execution_count": 22,
   "metadata": {},
   "outputs": [],
   "source": [
    "# Load the dataset\n",
    "wines = pd.read_csv(\"datasets/XWines_Vecto_1K.csv\")\n",
    "\n",
    "# Extract features excluding 'WineID'\n",
    "wine_features = wines.columns.drop(\"WineID\").to_numpy()\n",
    "\n",
    "# Map wine_id to indices\n",
    "wine_ids = wines['WineID'].unique()\n",
    "wine_to_index = {id: index for index, id in enumerate(wine_ids)}\n",
    "index_to_wine = {index: id for index, id in enumerate(wine_ids)}"
   ]
  },
  {
   "cell_type": "markdown",
   "metadata": {},
   "source": [
    "## Create a simple dataset and dataloader\n",
    "A custom dataset class is defined for **triplet training**, which involves selecting an **anchor wine**, a **positive (similar) wine**, and a **negative (dissimilar) wine**. **Random selection** ensures a **diverse set of training samples**. The **DataLoader** facilitates **efficient batch processing** and **shuffling**, which is essential for **effective training** of the model.\n"
   ]
  },
  {
   "cell_type": "code",
   "execution_count": 23,
   "metadata": {},
   "outputs": [],
   "source": [
    "class WineTripletDataset(Dataset):\n",
    "    def __init__(self, df):\n",
    "        self.wine_ids = df['WineID'].values\n",
    "        self.features = df[df.columns.drop('WineID')].astype('float64').values\n",
    "        self.num_wines = len(self.wine_ids)\n",
    "    \n",
    "    def __len__(self):\n",
    "        return self.num_wines\n",
    "    \n",
    "    def __getitem__(self, idx):\n",
    "        anchor_features = self.features[idx]\n",
    "        positive_idx = np.random.randint(0, self.num_wines)\n",
    "        negative_idx = np.random.randint(0, self.num_wines)\n",
    "        positive_features = self.features[positive_idx]\n",
    "        negative_features = self.features[negative_idx]\n",
    "        return (\n",
    "            torch.tensor(anchor_features, dtype=torch.float32),\n",
    "            torch.tensor(positive_features, dtype=torch.float32),\n",
    "            torch.tensor(negative_features, dtype=torch.float32)\n",
    "        )\n",
    "\n",
    "# Initialize dataset and dataloader\n",
    "triplet_dataset = WineTripletDataset(wines)\n",
    "triplet_dataloader = DataLoader(triplet_dataset, batch_size=64, shuffle=True)"
   ]
  },
  {
   "cell_type": "markdown",
   "metadata": {},
   "source": [
    "## Define the model\n",
    "We define a **simple neural network model** with an **embedding layer** that learns a **vector representation (embedding)** for each wine. The **embedding dimension** is set to **50**, which balances between capturing enough detail and computational efficiency.\n"
   ]
  },
  {
   "cell_type": "code",
   "execution_count": 24,
   "metadata": {},
   "outputs": [],
   "source": [
    "class WineEmbeddingModel(nn.Module):\n",
    "    def __init__(self, input_dim, embedding_dim=50):\n",
    "        super(WineEmbeddingModel, self).__init__()\n",
    "        self.fc1 = nn.Linear(input_dim, embedding_dim)\n",
    "        self.fc2 = nn.Linear(embedding_dim, embedding_dim)\n",
    "    \n",
    "    def forward(self, features):\n",
    "        x = F.relu(self.fc1(features))\n",
    "        x = self.fc2(x)\n",
    "        return x\n",
    "\n",
    "input_dim = len(wine_features)\n",
    "embedding_dim = 50\n",
    "model = WineEmbeddingModel(input_dim, embedding_dim)\n"
   ]
  },
  {
   "cell_type": "markdown",
   "metadata": {},
   "source": [
    "## Loss and optimizer\n",
    "The **TripletMarginLoss** is chosen as it encourages the model to learn embeddings where the **positive wine** is closer to the **anchor wine** than the **negative wine** by a **margin**. The **Adam optimizer** is used for its **efficiency** and **adaptive learning rate capabilities**, helping in **faster convergence**.\n"
   ]
  },
  {
   "cell_type": "code",
   "execution_count": 25,
   "metadata": {},
   "outputs": [],
   "source": [
    "# Define the loss function and optimizer\n",
    "criterion = nn.TripletMarginLoss(margin=1.0, p=2)\n",
    "optimizer = Adam(model.parameters(), lr=0.001)"
   ]
  },
  {
   "cell_type": "markdown",
   "metadata": {},
   "source": [
    "## Train the model to learn embeddings\n",
    "This function trains the model using the **triplet loss**. For each **epoch**, the model processes batches of **triplets (anchor, positive, negative)**, computes the **embeddings**, calculates the **loss**, and updates the **model parameters**. **Printing the loss per epoch** helps monitor **training progress** and **performance**.\n"
   ]
  },
  {
   "cell_type": "code",
   "execution_count": 26,
   "metadata": {},
   "outputs": [
    {
     "name": "stdout",
     "output_type": "stream",
     "text": [
      "Epoch 1, Loss: 1.0071405731141567\n",
      "Epoch 2, Loss: 1.0037223733961582\n",
      "Epoch 3, Loss: 1.002433329820633\n",
      "Epoch 4, Loss: 0.9917711019515991\n",
      "Epoch 5, Loss: 0.9901607409119606\n",
      "Epoch 6, Loss: 1.0034374669194221\n",
      "Epoch 7, Loss: 0.9932360760867596\n",
      "Epoch 8, Loss: 0.9979709088802338\n",
      "Epoch 9, Loss: 1.0031986273825169\n",
      "Epoch 10, Loss: 1.0010151974856853\n"
     ]
    }
   ],
   "source": [
    "def train_triplet(model, dataloader, criterion, optimizer, epochs=10):\n",
    "    model.train()\n",
    "    for epoch in range(epochs):\n",
    "        total_loss = 0\n",
    "        for anchor_features, positive_features, negative_features in dataloader:\n",
    "            optimizer.zero_grad()\n",
    "            anchor_embedding = model(anchor_features)\n",
    "            positive_embedding = model(positive_features)\n",
    "            negative_embedding = model(negative_features)\n",
    "            loss = criterion(anchor_embedding, positive_embedding, negative_embedding)\n",
    "            loss.backward()\n",
    "            optimizer.step()\n",
    "            total_loss += loss.item()\n",
    "        print(f'Epoch {epoch+1}, Loss: {total_loss / len(dataloader)}')\n",
    "\n",
    "train_triplet(model, triplet_dataloader, criterion, optimizer, epochs=10)"
   ]
  },
  {
   "cell_type": "markdown",
   "metadata": {},
   "source": [
    "## Extract embeddings\n",
    "After training, we **extract the learned embeddings** from the model. These embeddings are **numerical representations of wines** in a **lower-dimensional space**, capturing **similarities and differences** based on the training process.\n"
   ]
  },
  {
   "cell_type": "code",
   "execution_count": 42,
   "metadata": {},
   "outputs": [],
   "source": [
    "# Generate embeddings for each wine\n",
    "wine_embeddings = model(torch.tensor(wines[wine_features].values, dtype=torch.float32)).detach().numpy()\n"
   ]
  },
  {
   "cell_type": "markdown",
   "metadata": {},
   "source": [
    "## Function to find similar wines\n",
    "This function identifies wines similar to a given wine based on cosine similarity of their embeddings. "
   ]
  },
  {
   "cell_type": "code",
   "execution_count": 43,
   "metadata": {},
   "outputs": [],
   "source": [
    "# Create mappings\n",
    "wine_to_index = {wine_id: idx for idx, wine_id in enumerate(wines['WineID'])}\n",
    "index_to_wine = {idx: wine_id for idx, wine_id in enumerate(wines['WineID'])}\n",
    "def find_similar_wines(wine_id, wine_embeddings, num_recommendations=5):\n",
    "    wine_index = wine_to_index[wine_id]\n",
    "    wine_embedding = wine_embeddings[wine_index]\n",
    "    \n",
    "    # Compute cosine similarity\n",
    "    cosine_similarities = np.dot(wine_embeddings, wine_embedding) / (np.linalg.norm(wine_embeddings, axis=1) * np.linalg.norm(wine_embedding))\n",
    "    \n",
    "    similar_indices = np.argsort(cosine_similarities)[::-1]\n",
    "    similar_wine_ids = [index_to_wine[idx] for idx in similar_indices[:num_recommendations + 1] if idx != wine_index][:num_recommendations]\n",
    "    \n",
    "    return similar_wine_ids\n"
   ]
  },
  {
   "cell_type": "markdown",
   "metadata": {},
   "source": [
    "## Comparing the results:\n",
    "We compare the recommedation given by the function that uses embeddings with one of the two we saw before"
   ]
  },
  {
   "cell_type": "code",
   "execution_count": 45,
   "metadata": {
    "slideshow": {
     "slide_type": "slide"
    }
   },
   "outputs": [
    {
     "data": {
      "image/png": "[encoded data removed]",
      "text/plain": [
       "<Figure size 640x480 with 1 Axes>"
      ]
     },
     "metadata": {},
     "output_type": "display_data"
    }
   ],
   "source": [
    "allsimi = []\n",
    "\n",
    "for n_reco in range(1, 11):\n",
    "    neigh = NearestNeighbors(n_neighbors=n_reco + 1, metric=\"cosine\")\n",
    "    neigh.fit(pca_array)\n",
    "    error = 0\n",
    "    for idxWine in range(len(wines)):\n",
    "        wine_id = wines['WineID'].iloc[idxWine]\n",
    "        \n",
    "        # Get recommendations using your model\n",
    "        model_recommendations = find_similar_wines(wine_id, wine_embeddings,  num_recommendations=n_reco)\n",
    "        model_recommendations_indices = [wine_to_index[wine] for wine in model_recommendations]\n",
    "        \n",
    "        # Get recommendations using NearestNeighbors\n",
    "        index = neigh.kneighbors([wineDatasetPCA.iloc[idxWine].drop(\"WineID\")], return_distance=False)\n",
    "        index = index[0].tolist()\n",
    "        if idxWine in index:\n",
    "            index.remove(idxWine)\n",
    "        else:\n",
    "            index = index[:-1]\n",
    "\n",
    "        # Calculate error\n",
    "        error += len(set(model_recommendations_indices + index)) - n_reco\n",
    "    \n",
    "    simiPerc = 100 - (error / (len(wines) * (n_reco * 2))) * 100\n",
    "    allsimi.append(simiPerc)\n",
    "\n",
    "n_of_reco = [x for x in range(1, 11)]\n",
    "plt.plot(n_of_reco, allsimi)\n",
    "plt.xlabel('Number of Recommendations')\n",
    "plt.ylabel('Similarity Percentage')\n",
    "plt.title(\"Similarity per Number of Recommendations\")\n",
    "plt.show()"
   ]
  },
  {
   "cell_type": "markdown",
   "metadata": {},
   "source": [
    "Given that this was an experimental way of capturing information about wine and using it to make suggestions, we observe a **worse overlap of results** compared to previous methods. However, we still achieve a **high percentage of stable results** after 5 recommendations. This suggests there is an **underlying pattern** in these suggestions, confirming the effectiveness of our approach.\n"
   ]
  }
 ],
 "metadata": {
  "kernelspec": {
   "display_name": "Python 3",
   "language": "python",
   "name": "python3"
  },
  "language_info": {
   "codemirror_mode": {
    "name": "ipython",
    "version": 3
   },
   "file_extension": ".py",
   "mimetype": "text/x-python",
   "name": "python",
   "nbconvert_exporter": "python",
   "pygments_lexer": "ipython3",
   "version": "3.12.2"
  }
 },
 "nbformat": 4,
 "nbformat_minor": 2
}
