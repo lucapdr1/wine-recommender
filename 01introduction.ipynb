{
 "cells": [
  {
   "cell_type": "markdown",
   "id": "08503591",
   "metadata": {},
   "source": [
    "## RS Project\n",
    "##### Valentin Tharaud - Luca Pedranzini\n",
    "\n",
    "\n",
    "## About the dataset\n",
    "X-Wines: A wine dataset for recommender systems and machine learning<br>\n",
    "Rogério Xavier de Azambuja (rogerio.xavier@farroupilha.ifrs.edu.br)<br>\n",
    "Dataset X-Wines from https://github.com/rogerioxavier/X-Wines<br><br>\n",
    "\n",
    "Link to the data necessary to run the project: https://drive.google.com/drive/folders/1iC90-CMZOpFd3fJlpntbAl8J1VxfcWth?usp=sharing"
   ]
  },
  {
   "cell_type": "code",
   "execution_count": 1,
   "id": "d8b5b7af",
   "metadata": {},
   "outputs": [],
   "source": [
    "# Basic libraries\n",
    "import pandas as pd\n",
    "\n",
    "# Display basic configs\n",
    "pd.set_option('display.max_columns', None) \n",
    "pd.set_option('display.max_rows', 100) # default= None\n",
    "pd.options.mode.chained_assignment = None  # default='warn'"
   ]
  },
  {
   "cell_type": "code",
   "execution_count": 2,
   "id": "0f66e099",
   "metadata": {},
   "outputs": [
    {
     "data": {
      "text/plain": [
       "1007"
      ]
     },
     "execution_count": 2,
     "metadata": {},
     "output_type": "execute_result"
    }
   ],
   "source": [
    "# Opening X-Wines dataset\n",
    "wines = pd.read_csv(\"XWines_Slim_1K_wines.csv\", low_memory=False, encoding=\"utf-8\", memory_map=True)\n",
    "len(wines)"
   ]
  },
  {
   "cell_type": "code",
   "execution_count": 3,
   "id": "d3d2d272",
   "metadata": {},
   "outputs": [
    {
     "name": "stdout",
     "output_type": "stream",
     "text": [
      "Total wines: 1007 from 31 different countries\n"
     ]
    }
   ],
   "source": [
    "print(\"Total wines:\", wines.WineID.nunique(), \"from\", wines.Code.nunique() ,\"different countries\")"
   ]
  },
  {
   "cell_type": "code",
   "execution_count": 5,
   "id": "72026e6c",
   "metadata": {},
   "outputs": [
    {
     "name": "stdout",
     "output_type": "stream",
     "text": [
      "<class 'pandas.core.frame.DataFrame'>\n",
      "RangeIndex: 1007 entries, 0 to 1006\n",
      "Data columns (total 17 columns):\n",
      " #   Column      Non-Null Count  Dtype  \n",
      "---  ------      --------------  -----  \n",
      " 0   WineID      1007 non-null   int64  \n",
      " 1   WineName    1007 non-null   object \n",
      " 2   Type        1007 non-null   object \n",
      " 3   Elaborate   1007 non-null   object \n",
      " 4   Grapes      1007 non-null   object \n",
      " 5   Harmonize   1007 non-null   object \n",
      " 6   ABV         1007 non-null   float64\n",
      " 7   Body        1007 non-null   object \n",
      " 8   Acidity     1007 non-null   object \n",
      " 9   Code        1007 non-null   object \n",
      " 10  Country     1007 non-null   object \n",
      " 11  RegionID    1007 non-null   int64  \n",
      " 12  RegionName  1007 non-null   object \n",
      " 13  WineryID    1007 non-null   int64  \n",
      " 14  WineryName  1007 non-null   object \n",
      " 15  Website     900 non-null    object \n",
      " 16  Vintages    1007 non-null   object \n",
      "dtypes: float64(1), int64(3), object(13)\n",
      "memory usage: 133.9+ KB\n"
     ]
    },
    {
     "data": {
      "text/plain": [
       "(None,\n",
       " WineID          0\n",
       " WineName        0\n",
       " Type            0\n",
       " Elaborate       0\n",
       " Grapes          0\n",
       " Harmonize       0\n",
       " ABV             0\n",
       " Body            0\n",
       " Acidity         0\n",
       " Code            0\n",
       " Country         0\n",
       " RegionID        0\n",
       " RegionName      0\n",
       " WineryID        0\n",
       " WineryName      0\n",
       " Website       107\n",
       " Vintages        0\n",
       " dtype: int64)"
      ]
     },
     "execution_count": 5,
     "metadata": {},
     "output_type": "execute_result"
    }
   ],
   "source": [
    "wines.info(), wines.isnull().sum()"
   ]
  },
  {
   "cell_type": "code",
   "execution_count": 6,
   "id": "a8ac338f",
   "metadata": {},
   "outputs": [
    {
     "data": {
      "text/plain": [
       "Type\n",
       "Red             506\n",
       "White           232\n",
       "Sparkling       100\n",
       "Rosé             85\n",
       "Dessert          59\n",
       "Dessert/Port     25\n",
       "Name: count, dtype: int64"
      ]
     },
     "execution_count": 6,
     "metadata": {},
     "output_type": "execute_result"
    }
   ],
   "source": [
    "wines.Type.value_counts()"
   ]
  },
  {
   "cell_type": "code",
   "execution_count": 7,
   "id": "57521edc",
   "metadata": {},
   "outputs": [
    {
     "data": {
      "text/plain": [
       "Body\n",
       "Full-bodied          392\n",
       "Medium-bodied        348\n",
       "Very full-bodied     134\n",
       "Light-bodied         118\n",
       "Very light-bodied     15\n",
       "Name: count, dtype: int64"
      ]
     },
     "execution_count": 7,
     "metadata": {},
     "output_type": "execute_result"
    }
   ],
   "source": [
    "wines.Body.value_counts()"
   ]
  },
  {
   "cell_type": "code",
   "execution_count": 8,
   "id": "c7b1db35",
   "metadata": {},
   "outputs": [
    {
     "data": {
      "text/plain": [
       "Acidity\n",
       "High      740\n",
       "Medium    249\n",
       "Low        18\n",
       "Name: count, dtype: int64"
      ]
     },
     "execution_count": 8,
     "metadata": {},
     "output_type": "execute_result"
    }
   ],
   "source": [
    "wines.Acidity.value_counts()"
   ]
  },
  {
   "cell_type": "code",
   "execution_count": 9,
   "id": "1f79273e",
   "metadata": {},
   "outputs": [
    {
     "data": {
      "text/plain": [
       "Country\n",
       "Argentina          50\n",
       "Australia          48\n",
       "Austria            18\n",
       "Brazil             48\n",
       "Canada             19\n",
       "Chile              69\n",
       "Croatia             1\n",
       "Czech Republic      2\n",
       "France            179\n",
       "Germany            54\n",
       "Greece             13\n",
       "Hungary             8\n",
       "Israel              1\n",
       "Italy             139\n",
       "Lebanon             4\n",
       "Malta               5\n",
       "Mexico              8\n",
       "Moldova             1\n",
       "New Zealand        33\n",
       "Portugal           83\n",
       "Romania             2\n",
       "Russia              7\n",
       "Slovenia            1\n",
       "South Africa       32\n",
       "Spain              48\n",
       "Switzerland         4\n",
       "Turkey              1\n",
       "Ukraine             6\n",
       "United Kingdom      1\n",
       "United States     114\n",
       "Uruguay             8\n",
       "Name: count, dtype: int64"
      ]
     },
     "execution_count": 9,
     "metadata": {},
     "output_type": "execute_result"
    }
   ],
   "source": [
    "wines.Country.value_counts().sort_index()"
   ]
  },
  {
   "cell_type": "markdown",
   "id": "7eb28b22",
   "metadata": {},
   "source": [
    "## Project Goals\n",
    "\n",
    "The primary goal of this project is to develop a system that can identify wines similar to a given wine from the dataset.\n",
    "\n",
    "### Approaches\n",
    "\n",
    "1. **K-Nearest Neighbors (KNN) on Principal Component Analysis (PCA)**:\n",
    "   - Reduce the dimensionality of the dataset using PCA.\n",
    "   - Use KNN to find wines similar to the target wine based on the reduced dimensions.\n",
    "\n",
    "2. **Cosine Similarity on Singular Value Decomposition (SVD)**:\n",
    "   - Apply SVD to decompose the dataset.\n",
    "   - Compute cosine similarity between wines based on the resulting components.\n",
    "\n",
    "3. **Cosine Similarity with Neural Network Embeddings**:\n",
    "   - Train a neural network to learn embeddings for the wines.\n",
    "   - Use cosine similarity to find similar wines based on these learned embeddings.\n",
    "\n",
    "### Expected Outcome\n",
    "\n",
    "Since both the KNN on PCA and the cosine similarity on SVD approaches involve computing cosine distances, we anticipate that they will yield similar results. The experiment with neural network embeddings aims to compare and possibly enhance the effectiveness of similarity detection using learned representations."
   ]
  },
  {
   "cell_type": "markdown",
   "id": "a701747c",
   "metadata": {},
   "source": []
  }
 ],
 "metadata": {
  "kernelspec": {
   "display_name": "Python 3 (ipykernel)",
   "language": "python",
   "name": "python3"
  },
  "language_info": {
   "codemirror_mode": {
    "name": "ipython",
    "version": 3
   },
   "file_extension": ".py",
   "mimetype": "text/x-python",
   "name": "python",
   "nbconvert_exporter": "python",
   "pygments_lexer": "ipython3",
   "version": "3.12.2"
  }
 },
 "nbformat": 4,
 "nbformat_minor": 5
}
